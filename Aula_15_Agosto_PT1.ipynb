{
  "cells": [
    {
      "cell_type": "markdown",
      "id": "2ae28cdf",
      "metadata": {
        "editable": true,
        "tags": [],
        "id": "2ae28cdf"
      },
      "source": [
        "# Pt 1 - Introdução\n",
        "\n",
        "Nesta série de postagens, trataremos dos números complexos.\n",
        "\n",
        "Utilizaremos o Python como linguagem de programação.\n",
        "\n",
        "A Parte 1 deste série considera as operações com as coordenadas cartesianas;\n",
        "\n",
        " 1. Números complexos\n",
        "    \n",
        "    1.1 - O módulo de um número complexo\n",
        "\n",
        "    1.2 - O Conjugado de um Número Complexo\n",
        "    \n",
        " 3. Operações Básicas\n",
        "\n",
        "    2.1 - Adição\n",
        "\n",
        "    2.2 - Subtração\n",
        "\n",
        "    2.3 - Multiplicação de números complexos\n",
        "\n",
        "    2.4 - Divisão de números Complexos\n",
        "    \n",
        "    \n",
        "\n"
      ]
    },
    {
      "cell_type": "markdown",
      "id": "e6a9c392",
      "metadata": {
        "id": "e6a9c392"
      },
      "source": [
        "# 1. Números complexos\n",
        "\n",
        "Elemento de um sistema numérico que contém os números reais e um elemento especifico denominado $i$, chamado de unidade imaginária, e satisfaz a equação $i^2 = -1$."
      ]
    },
    {
      "cell_type": "markdown",
      "id": "24731521",
      "metadata": {
        "id": "24731521"
      },
      "source": [
        "## Plano Complexo\n",
        "\n",
        "Números complexos são expressões da forma $z = x + iy$ ou $z = x + jy$, onde:\n",
        "\n",
        "   - $x$ é a parte real de $z$ ou $x = Re$ z;\n",
        "   - $y$ é a parte imaginária de $z$ ou $y = Im$ z.\n",
        "\n",
        "A representação cartesiana de um número complexo $z = 2 + j1$:\n",
        "   \n",
        "<img src=\"https://lgrando1.github.io/post/complex1/fig12.png\">\n",
        "   \n",
        "O conjunto de números complexos é chamado de plano complexo cujo simbolo é $\\mathbb{C}$ e pode ser identificada como $\\mathbb{R}^2$.\n",
        "\n",
        "Os números reais são um conjunto do plano complexo onde a parte imaginaria é zero."
      ]
    },
    {
      "cell_type": "markdown",
      "id": "b727c0a2",
      "metadata": {
        "id": "b727c0a2"
      },
      "source": [
        "Conforme a biblioteca utilizada no Python, pode-se representar o elemento $i$ como a letra $j$, no caso da biblioteca [cmath](https://docs.python.org/3/library/cmath.html) para representar a parte imaginaria de um número complexo Já a biblioteca [Sympy](https://www.sympy.org/en/index.html) utilizasse a Letra $I$.\n",
        "\n",
        "Então a o numero $z = 2+3i$ pode ser descrito no Python como:"
      ]
    },
    {
      "cell_type": "code",
      "execution_count": null,
      "id": "b58153fc",
      "metadata": {
        "colab": {
          "base_uri": "https://localhost:8080/"
        },
        "id": "b58153fc",
        "outputId": "75a4cec4-c99e-4b30-ba88-02e54fda5056"
      },
      "outputs": [
        {
          "output_type": "stream",
          "name": "stdout",
          "text": [
            "Representação do número\n",
            "(2+3j)\n"
          ]
        }
      ],
      "source": [
        "#Definindo o número:\n",
        "z = 2 + 3j\n",
        "\n",
        "print(\"Representação do número\")\n",
        "print(z)"
      ]
    },
    {
      "cell_type": "code",
      "execution_count": null,
      "id": "b3247554",
      "metadata": {
        "colab": {
          "base_uri": "https://localhost:8080/"
        },
        "id": "b3247554",
        "outputId": "8d7f59bf-eb67-4646-cc21-7de886211d0e"
      },
      "outputs": [
        {
          "output_type": "stream",
          "name": "stdout",
          "text": [
            "Classe de z\n",
            "<class 'complex'>\n"
          ]
        }
      ],
      "source": [
        "print(\"Classe de z\")\n",
        "print(type(z))"
      ]
    },
    {
      "cell_type": "markdown",
      "id": "734f9170-c746-4428-aae2-86dabc8e263c",
      "metadata": {
        "id": "734f9170-c746-4428-aae2-86dabc8e263c"
      },
      "source": [
        "Um numero complexo pode ser representado por um ponto no plano complexo $\\mathbb{C}$ e o numero $z = 2+3j$ pode ser representado no Python:"
      ]
    },
    {
      "cell_type": "code",
      "execution_count": null,
      "id": "a48900f7-4a2d-493e-ad77-a9a625b230b6",
      "metadata": {
        "colab": {
          "base_uri": "https://localhost:8080/"
        },
        "id": "a48900f7-4a2d-493e-ad77-a9a625b230b6",
        "outputId": "9d465d30-566f-4869-cb4f-de79a8416149"
      },
      "outputs": [
        {
          "output_type": "stream",
          "name": "stdout",
          "text": [
            "(2+3j)\n"
          ]
        }
      ],
      "source": [
        "print(complex(2,3))"
      ]
    },
    {
      "cell_type": "code",
      "execution_count": null,
      "id": "cdf2fd06",
      "metadata": {
        "colab": {
          "base_uri": "https://localhost:8080/"
        },
        "id": "cdf2fd06",
        "outputId": "1ec95ebd-1703-46e5-c14f-f9cb2f074bd7"
      },
      "outputs": [
        {
          "output_type": "stream",
          "name": "stdout",
          "text": [
            "Parte real de z\n",
            "2.0\n"
          ]
        }
      ],
      "source": [
        "print(\"Parte real de z\")\n",
        "print(z.real)"
      ]
    },
    {
      "cell_type": "code",
      "execution_count": null,
      "id": "73f5350a",
      "metadata": {
        "colab": {
          "base_uri": "https://localhost:8080/"
        },
        "id": "73f5350a",
        "outputId": "85dfa508-2273-44c6-cadb-858723b87d32"
      },
      "outputs": [
        {
          "output_type": "stream",
          "name": "stdout",
          "text": [
            "Parte complexa de z\n",
            "3.0\n"
          ]
        }
      ],
      "source": [
        "print(\"Parte complexa de z\")\n",
        "print(z.imag)"
      ]
    },
    {
      "cell_type": "markdown",
      "id": "850056b3-438e-4d3e-8b79-919642135219",
      "metadata": {
        "id": "850056b3-438e-4d3e-8b79-919642135219"
      },
      "source": [
        "### 1.1 - O módulo de um número complexo\n",
        "\n",
        "O módulo de um número complexo $z = x + iy$ é a distância entre o ponto $z$ e a origem, utilizando o Teorema de Pitágoras:\n",
        "\n",
        "$|z| = \\sqrt{x^2 + y^2}$\n",
        "\n",
        "<img src=\"fig13.png\">\n",
        "\n",
        "Em Python, pode obter este valor pela função abs(z):\n",
        "\n",
        "z = 1+4i\n",
        "\n",
        "w = 4+2i"
      ]
    },
    {
      "cell_type": "code",
      "execution_count": null,
      "id": "1d8f748a-d7f3-495c-a572-c36c29fe92bb",
      "metadata": {
        "colab": {
          "base_uri": "https://localhost:8080/"
        },
        "id": "1d8f748a-d7f3-495c-a572-c36c29fe92bb",
        "outputId": "7d42f6c3-ba47-4d71-8203-5f98e6b82330"
      },
      "outputs": [
        {
          "output_type": "stream",
          "name": "stdout",
          "text": [
            "O módulo de z é: 4.123105625617661\n"
          ]
        }
      ],
      "source": [
        "z = 1+4j\n",
        "w = 4+2j\n",
        "\n",
        "print(f\"O módulo de z é: {abs(z)}\")"
      ]
    },
    {
      "cell_type": "code",
      "execution_count": null,
      "id": "bf23f996-38ed-4a14-b884-50491a56ffca",
      "metadata": {
        "colab": {
          "base_uri": "https://localhost:8080/"
        },
        "id": "bf23f996-38ed-4a14-b884-50491a56ffca",
        "outputId": "51964f67-cdee-4261-c4dc-640de9a38ca6"
      },
      "outputs": [
        {
          "output_type": "stream",
          "name": "stdout",
          "text": [
            "O módulo de w é: 4.47213595499958\n"
          ]
        }
      ],
      "source": [
        "print(f\"O módulo de w é: {abs(w)}\")"
      ]
    },
    {
      "cell_type": "markdown",
      "id": "f0cc3dcb-1b9c-4f59-9933-c4e8d9fd7460",
      "metadata": {
        "id": "f0cc3dcb-1b9c-4f59-9933-c4e8d9fd7460"
      },
      "source": [
        "### 1.2 - O Conjugado de um Número Complexo\n",
        "\n",
        "O conjugado do número complexo $z = x + iy$ é $\\overline{z} = x - iy$\n",
        "\n",
        "<img src=\"https://lgrando1.github.io/post/complex1/fig13.png\">\n",
        "\n",
        "Propriedades do conjugado:\n",
        "\n",
        "$\\overline{\\overline{z}} = z$\n",
        "\n",
        "$\\overline{z+w} = \\bar{z}+\\bar{w}$\n",
        "\n",
        "$\\overline{z} = |\\overline{z}|$\n",
        "\n",
        "$z\\overline{z} = (x+iy)(x-iy) = x^2+y^2 = |z|²$\n",
        "\n",
        "$\\frac{1}{z} = \\frac{\\overline{z}}{z\\overline{z}}= \\frac{\\bar{z}}{|z|²}$\n",
        "\n",
        "$|z \\cdot w| = |z|\\cdot|w|$\n",
        "\n",
        "$\\overline{(\\frac{z}{w})} = \\frac{\\overline{z}}{\\overline{w}}$, quando $w \\neq 0$\n",
        "\n",
        "$|z| = 0$ se e somente se $z = 0$\n",
        "\n",
        "Para encontrar os valores Reais e imaginários de z,\n",
        "\n",
        "podemos fazer $z = \\overline{z}$ ou $z = -\\overline{z}$, resultando em:\n",
        "\n",
        "$Re$ z $= \\frac{z + \\overline{z}}{2}$\n",
        "\n",
        "$Im$ z $= \\frac{z - \\overline{z}}{2i}$\n",
        "\n",
        "Para obter o conjugado de um número complexo $z$ em Python:"
      ]
    },
    {
      "cell_type": "code",
      "execution_count": null,
      "id": "569c9341-27ec-4d41-ab82-2f0ae7c0be49",
      "metadata": {
        "colab": {
          "base_uri": "https://localhost:8080/"
        },
        "id": "569c9341-27ec-4d41-ab82-2f0ae7c0be49",
        "outputId": "637bc084-c6db-4175-ec2f-8d978f83796c"
      },
      "outputs": [
        {
          "output_type": "stream",
          "name": "stdout",
          "text": [
            "(3-2j)\n"
          ]
        }
      ],
      "source": [
        "z = 3+2j\n",
        "print(z.conjugate())"
      ]
    },
    {
      "cell_type": "markdown",
      "id": "ff592620-ada9-47dd-a100-caa687bbb67c",
      "metadata": {
        "id": "ff592620-ada9-47dd-a100-caa687bbb67c"
      },
      "source": [
        "### Algumas desigualdades:\n",
        "\n",
        "$-|z|\\leq Re$ z $ \\leq |z|$\n",
        "\n",
        "$-|z|\\leq Im$ z $ \\leq |z|$\n",
        "\n",
        "#### Desigualdade triangular\n",
        "$|z+w| \\leq |z| + |w|$\n",
        "\n",
        "Generalizando:\n",
        "\n",
        "$|z_1+z_2 + ... z_n| \\leq |z_1| + |z_2|+ ... + |z_n|$\n",
        "\n",
        "#### Desigualdade triangular inversa\n",
        "$|z-w| \\geq |z| - |w|$"
      ]
    },
    {
      "cell_type": "markdown",
      "id": "85ec2f07",
      "metadata": {
        "id": "85ec2f07"
      },
      "source": [
        "# 2. Operações Básicas"
      ]
    },
    {
      "cell_type": "markdown",
      "id": "cae5e7a0",
      "metadata": {
        "id": "cae5e7a0"
      },
      "source": [
        "## 2.1 - Adição\n",
        "Se $z = x + iy$ e $w = u + iv$, podemos representar z + w como:\n",
        "\n",
        "$(x + iy) + (u + iv) = (x+u) + i(y+v)$, onde:\n",
        "\n",
        "- Re$(z+w)$ = Re $z$ + Re $w$\n",
        "- Im$(z+w)$ = Im $z$ + Im $w$\n",
        "\n",
        "<img src=\"https://lgrando1.github.io/post/complex1/fig112.png\">\n",
        "\n",
        "## 2.2 - Subtração\n",
        "Se $z = x + iy$ e $w = u + iv$, podemos representar z - w como:\n",
        "\n",
        "$(x + iy) - (u + iv) = (x-u) + i(y-v)$, onde:\n",
        "\n",
        "- Re $(z-w)$ = Re $z$ - Re $w$\n",
        "- Im $(z-w)$ = Im $z$ - Im $w$\n",
        "\n",
        "Em Python para z = 1+4i e w = 4+2i"
      ]
    },
    {
      "cell_type": "code",
      "execution_count": null,
      "id": "14be9b91",
      "metadata": {
        "colab": {
          "base_uri": "https://localhost:8080/"
        },
        "id": "14be9b91",
        "outputId": "d96ca82b-a11e-4d7e-eef0-4743803c498a"
      },
      "outputs": [
        {
          "output_type": "stream",
          "name": "stdout",
          "text": [
            "O valor de z+w é, (5+6j)\n",
            "O valor de z-w é, (-3+2j)\n"
          ]
        }
      ],
      "source": [
        "z = 1+4j\n",
        "\n",
        "w = 4+2j\n",
        "\n",
        "print(f\"O valor de z+w é, {z+w}\")\n",
        "print(f\"O valor de z-w é, {z-w}\")"
      ]
    },
    {
      "cell_type": "markdown",
      "id": "04e21b80",
      "metadata": {
        "id": "04e21b80"
      },
      "source": [
        "## 2.3 - Multiplicação de números complexos\n",
        "\n",
        "$(x+iy) \\cdot (u-iv) = (xu-yv)+i(xv+yu) \\in \\mathbb{C}$\n",
        "\n",
        "Propriedades:\n",
        "\n",
        "- Associativas: $(z_1z_2)z_3 = z_1(z_2z_3)$;\n",
        "- Comutativas: $z_1z_2 = z_2z_1$;\n",
        "- Distributivas: $z_1(z_2+z_3) = z_1z_2+ z_1z_3)$.\n",
        "\n",
        "Exemplo\n",
        "\n",
        "a = 2+4j\n",
        "\n",
        "b = -7+5j\n",
        "\n",
        "$(2+4j) \\cdot (-7+5j) = (2 \\cdot -7 - 5 \\cdot 4) + j(2 \\cdot 5 + 4 \\cdot -7)$\n",
        "\n",
        "$= -34-18j$\n",
        "\n",
        "Efetuando a multiplicação dos números a, b e c:"
      ]
    },
    {
      "cell_type": "code",
      "execution_count": null,
      "id": "a5743740",
      "metadata": {
        "colab": {
          "base_uri": "https://localhost:8080/"
        },
        "id": "a5743740",
        "outputId": "26498610-3bc7-467f-c452-ec641be45129"
      },
      "outputs": [
        {
          "output_type": "stream",
          "name": "stdout",
          "text": [
            "a * b =  (-34-18j)\n",
            "a * c =  (-2+16j)\n"
          ]
        }
      ],
      "source": [
        "a = 2+4j\n",
        "b = -7+5j\n",
        "c = 3+2j\n",
        "\n",
        "print(\"a * b = \", a * b)\n",
        "print(\"a * c = \", a * c)"
      ]
    },
    {
      "cell_type": "markdown",
      "id": "321518b3-032b-48d3-afb3-829feab69187",
      "metadata": {
        "id": "321518b3-032b-48d3-afb3-829feab69187"
      },
      "source": [
        "Verificando se as propriedades são verdadeiras"
      ]
    },
    {
      "cell_type": "code",
      "execution_count": null,
      "id": "6a101576-b095-49f5-9904-cbce6a96622f",
      "metadata": {
        "colab": {
          "base_uri": "https://localhost:8080/"
        },
        "id": "6a101576-b095-49f5-9904-cbce6a96622f",
        "outputId": "8f649eaa-9b03-4422-d601-9b4f7078892b"
      },
      "outputs": [
        {
          "output_type": "stream",
          "name": "stdout",
          "text": [
            "Associativa: (a*b)*c == a*(b*c)\n",
            "True\n"
          ]
        }
      ],
      "source": [
        "#Propriedades\n",
        "\n",
        "print(\"Associativa: (a*b)*c == a*(b*c)\")\n",
        "print((a*b)*c == a*(b*c))"
      ]
    },
    {
      "cell_type": "code",
      "execution_count": null,
      "id": "00af024a",
      "metadata": {
        "colab": {
          "base_uri": "https://localhost:8080/"
        },
        "id": "00af024a",
        "outputId": "db36dcf8-5643-44c2-caf9-609bfce58c3d"
      },
      "outputs": [
        {
          "output_type": "stream",
          "name": "stdout",
          "text": [
            "Comutativa: a*b == b*a\n",
            "True\n"
          ]
        }
      ],
      "source": [
        "print(\"Comutativa: a*b == b*a\")\n",
        "print(a*b == b*a)"
      ]
    },
    {
      "cell_type": "code",
      "execution_count": null,
      "id": "60340457",
      "metadata": {
        "colab": {
          "base_uri": "https://localhost:8080/"
        },
        "id": "60340457",
        "outputId": "7b323278-5be5-4be1-e01c-8ddfd0da10f8"
      },
      "outputs": [
        {
          "output_type": "stream",
          "name": "stdout",
          "text": [
            "Distributiva: a*(b+c) == a*b + a*c\n",
            "True\n"
          ]
        }
      ],
      "source": [
        "print(\"Distributiva: a*(b+c) == a*b + a*c\")\n",
        "print(a*(b+c) == a*b + a*c)"
      ]
    },
    {
      "cell_type": "markdown",
      "id": "a644356e",
      "metadata": {
        "id": "a644356e"
      },
      "source": [
        "\n",
        "As Potências de $i$:\n",
        "\n",
        "$i^0 = 1$\n",
        "\n",
        "$i = 0 + 1i$\n",
        "\n",
        "$i^2 = (0 + 1i)(0 + 1i) = (0\\cdot0 - 1\\cdot1) + i(0\\cdot1+1\\cdot0) = -1$\n",
        "\n",
        "$i^3 = i^2 \\cdot i = -1\\cdot i = -i $\n",
        "\n",
        "$i^4 = i^2 \\cdot i^2 = -1\\cdot -1 = 1 $\n",
        "\n",
        "$i^5 = i^4 \\cdot i = i $\n",
        "\n",
        "$i^{100} = (i^4)^{25} = (1)^{25} = 1 $\n"
      ]
    },
    {
      "cell_type": "markdown",
      "id": "9cd063b0",
      "metadata": {
        "id": "9cd063b0"
      },
      "source": [
        "\n"
      ]
    },
    {
      "cell_type": "markdown",
      "id": "bfea23bc",
      "metadata": {
        "id": "bfea23bc"
      },
      "source": [
        "## 2.4 - Divisão de números Complexos\n",
        "\n",
        "Considere os números complexos $z = x + iy$ e $w = u + iv$,\n",
        "\n",
        "Para efetuar a divisão $ \\frac{z}{w} $, para $w \\neq 0$,\n",
        "\n",
        "multiplica o numerador e o denominador pelo conjugado complexo do denominador.\n",
        "\n",
        "$\\frac{z}{w} = \\frac{x+iy}{u+iv} = \\frac{(x+iy)(u-iv)}{(u+iv)(u-iv)} = \\frac{(xu+yv)+i(-xv+yu)}{u^2+v^2 + i(-uv+vu)}$\n",
        "\n",
        "$\\frac{z}{w}$ = $\\frac{xu+yv}{u^2+v^2}+i \\frac{yu-xv}{u^2+v^2 }$\n",
        "\n",
        "Desta forma:\n",
        "\n",
        "$\\frac{1}{z} = \\frac{1}{x+iy} = \\frac{x-iy}{x^2+y^2}$, quando $z \\neq 0$\n"
      ]
    },
    {
      "cell_type": "markdown",
      "id": "4cb7c9f4-1030-431c-a31b-c83222092607",
      "metadata": {
        "id": "4cb7c9f4-1030-431c-a31b-c83222092607"
      },
      "source": [
        "Para $a = 2+4j$ e $b = -7+5j$\n",
        "\n",
        "$\\frac{a}{b} = \\frac {2 \\cdot -7 + 4 \\cdot 5}{-7^2+5^2}+i \\frac{4 \\cdot -7-2 \\cdot 5}{-7^2+5^2} = 0.08108-i0.5135$\n",
        "\n",
        "No Python:"
      ]
    },
    {
      "cell_type": "code",
      "execution_count": null,
      "id": "5e5537c3-60e5-4c11-b09d-a445df20f67e",
      "metadata": {
        "colab": {
          "base_uri": "https://localhost:8080/"
        },
        "id": "5e5537c3-60e5-4c11-b09d-a445df20f67e",
        "outputId": "847076e1-0f57-4646-d548-797953b71039"
      },
      "outputs": [
        {
          "output_type": "stream",
          "name": "stdout",
          "text": [
            "a / b =  (0.08108108108108109-0.5135135135135136j)\n",
            "a / c =  (1.0769230769230769+0.6153846153846155j)\n"
          ]
        }
      ],
      "source": [
        "a = 2+4j\n",
        "b = -7+5j\n",
        "c = 3+2j\n",
        "\n",
        "print(\"a / b = \", a / b)\n",
        "print(\"a / c = \", a / c)\n"
      ]
    },
    {
      "cell_type": "markdown",
      "id": "5fde69c8-77a1-4bcd-9680-9c2b2736bac4",
      "metadata": {
        "id": "5fde69c8-77a1-4bcd-9680-9c2b2736bac4"
      },
      "source": [
        "## Referências Bibliográficas\n",
        "\n",
        "**CMATH — MATHEMATICAL FUNCTIONS FOR COMPLEX NUMBERS.** 2023. Python documentation. Disponível em: https://docs.python.org/3/library/cmath.html. Acesso em: 19 ago. 2023.\n",
        "\n",
        "\n",
        "MEURER, Aaron; SMITH, Christopher P.; PAPROCKI, Mateusz; ČERTÍK, Ondřej; KIRPICHEV, Sergey B.; ROCKLIN, Matthew; KUMAR, AMiT; IVANOV, Sergiu; MOORE, Jason K.; SINGH, Sartaj; RATHNAYAKE, Thilina; VIG, Sean; GRANGER, Brian E.; MULLER, Richard P.; BONAZZI, Francesco; GUPTA, Harsh; VATS, Shivam; JOHANSSON, Fredrik; PEDREGOSA, Fabian; … SCOPATZ, Anthony. **SymPy: symbolic computing in Python**. PeerJ Computer Science, v. 3, p. e103, 2 jan. 2017. https://doi.org/10.7717/peerj-cs.103.\n",
        "\n",
        "GEOGEBRA. 2023. **GeoGebra**. Disponível em: https://www.geogebra.org/. Acesso em: 19 ago. 2023.\n",
        "\n",
        "\n",
        "LUCIO S. BUSTAMANTE, F. **Números complexos com Python e SymPy**. Disponível em: <https://cienciaprogramada.com.br/2022/03/numeros-complexos-python-sympy/>. Acesso em: 1 ago. 2023.\n",
        "\n",
        "PETRA, B.-T. **Introdução à análise complexa**. Disponível em: <https://www.coursera.org/learn/complex-analysis>. Acesso em: 8 Mai. 2023.\n",
        "\n",
        "URSINI, Edson L. **Notas de Aulas TT413 - Métodos Matemáticos para Telecomunicacões.** [S. l.: s. n.], 2023.‌\n"
      ]
    }
  ],
  "metadata": {
    "cite2c": {
      "citations": {
        "14728964/5Z9RT27H": {
          "URL": "http://acervus.unicamp.br/index.asp?codigo_sophia=1149276",
          "accessed": {
            "date-parts": [
              [
                2023,
                3,
                19
              ]
            ]
          },
          "author": [
            {
              "family": "Grando",
              "given": "Leonardo"
            }
          ],
          "event-place": "Campinas",
          "genre": "Mestre em Tecnologia",
          "issued": {
            "date-parts": [
              [
                2020,
                8,
                21
              ]
            ]
          },
          "language": "pt",
          "note": "DOI: 10.47749/T/UNICAMP.2020.1149276",
          "publisher": "Universidade Estadual de Campinas",
          "publisher-place": "Campinas",
          "title": "Procedimento de recarga de baterias de drones utilizando simulação por agentes e equilíbrio de Nash",
          "type": "thesis"
        },
        "14728964/QHLF3JKH": {
          "title": "David Hales - 2016 - ABM-NetLogo 2016 Course Webpage.pdf",
          "type": "article"
        },
        "undefined": {
          "URL": "http://acervus.unicamp.br/index.asp?codigo_sophia=1149276",
          "accessed": {
            "date-parts": [
              [
                2023,
                3,
                19
              ]
            ]
          },
          "author": [
            {
              "family": "Grando",
              "given": "Leonardo"
            }
          ],
          "event-place": "Campinas",
          "genre": "Mestre em Tecnologia",
          "issued": {
            "date-parts": [
              [
                2020,
                8,
                21
              ]
            ]
          },
          "language": "pt",
          "note": "DOI: 10.47749/T/UNICAMP.2020.1149276",
          "publisher": "Universidade Estadual de Campinas",
          "publisher-place": "Campinas",
          "title": "Procedimento de recarga de baterias de drones utilizando simulação por agentes e equilíbrio de Nash",
          "type": "thesis"
        }
      }
    },
    "kernelspec": {
      "display_name": "Python 3 (ipykernel)",
      "language": "python",
      "name": "python3"
    },
    "language_info": {
      "codemirror_mode": {
        "name": "ipython",
        "version": 3
      },
      "file_extension": ".py",
      "mimetype": "text/x-python",
      "name": "python",
      "nbconvert_exporter": "python",
      "pygments_lexer": "ipython3",
      "version": "3.8.10"
    },
    "colab": {
      "provenance": [],
      "toc_visible": true
    }
  },
  "nbformat": 4,
  "nbformat_minor": 5
}