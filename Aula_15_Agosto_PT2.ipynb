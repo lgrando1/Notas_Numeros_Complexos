{
  "cells": [
    {
      "cell_type": "markdown",
      "id": "13ab8cdf-6736-482e-a2b2-c82a59a4163a",
      "metadata": {
        "id": "13ab8cdf-6736-482e-a2b2-c82a59a4163a"
      },
      "source": [
        "# Pt 2 - Forma Polar/Exponencial/Funções/Cauchy-Riemann\n",
        "\n",
        "A Parte 1 deste série considera as operações com as coordenadas cartesianas;\n",
        "\n",
        "1. Operações Básicas com Números Complexos\n",
        "   1.1 - Utilizando o Python para efetuar os cálculos\n",
        "2. Representação Polar/Exponencial\n",
        "   2.1 Multiplicação e divisão de números polares\n",
        "   2.2 - Utilizando o Sympy\n",
        "4. Raízes de z\n",
        "5. Função complexa\n",
        "6. Equações de Cauchy-Riemann"
      ]
    },
    {
      "cell_type": "markdown",
      "id": "a26e9834-a07b-4730-b134-81f0c9e3f266",
      "metadata": {
        "jp-MarkdownHeadingCollapsed": true,
        "id": "a26e9834-a07b-4730-b134-81f0c9e3f266"
      },
      "source": [
        "# 1. Operações Básicas com Números Complexos\n",
        "\n",
        "Considere os números complexos abaixo:\n",
        "\n",
        "a = 2 + 3j\n",
        "\n",
        "b = 1j\n",
        "\n",
        "c = 4 + 1j\n",
        "\n",
        "d = 5 - 2j\n",
        "\n",
        "## Calcule:\n",
        "\n",
        "1a) a+b =\n",
        "\n",
        "1b) a+c =\n",
        "\n",
        "1c) d-a =\n",
        "\n",
        "1d) b-d =\n",
        "\n",
        "1e) a * b =\n",
        "\n",
        "1f) b * c =\n",
        "\n",
        "1g) a / c =\n",
        "\n",
        "1h) d / c =\n",
        "\n",
        "Calcule do valor absoluto (módulo) dos números complexos:\n",
        "\n",
        "1i) |a| =\n",
        "\n",
        "1j) |b - d| =\n",
        "\n",
        "Calcule o conjugado dos números complexos:\n",
        "\n",
        "1l) $\\bar{c}$\n",
        "\n",
        "1m) $\\overline{c+b}$\n",
        "\n",
        "## 1.1 - Utilizando o Python para efetuar os cálculos:\n"
      ]
    },
    {
      "cell_type": "code",
      "execution_count": 1,
      "id": "1168025e-9618-47ef-84fd-b3dafe22b0a4",
      "metadata": {
        "id": "1168025e-9618-47ef-84fd-b3dafe22b0a4"
      },
      "outputs": [],
      "source": [
        "# Definindo os números\n",
        "\n",
        "a = 2 + 3j\n",
        "\n",
        "b = 1j\n",
        "\n",
        "c = 4 + 1j\n",
        "\n",
        "d = 5 - 2j"
      ]
    },
    {
      "cell_type": "code",
      "execution_count": 2,
      "id": "3c83b80b-fe7c-4cc9-90b9-02da99f61cb9",
      "metadata": {
        "colab": {
          "base_uri": "https://localhost:8080/",
          "height": 0
        },
        "id": "3c83b80b-fe7c-4cc9-90b9-02da99f61cb9",
        "outputId": "40e9cea2-a52e-4643-f87a-19ec16af235a"
      },
      "outputs": [
        {
          "output_type": "stream",
          "name": "stdout",
          "text": [
            "1a: (2+4j)\n"
          ]
        }
      ],
      "source": [
        "print(\"1a:\", a+b)"
      ]
    },
    {
      "cell_type": "code",
      "execution_count": 3,
      "id": "da99b043-9140-4837-ad94-36f83fcb1e46",
      "metadata": {
        "colab": {
          "base_uri": "https://localhost:8080/",
          "height": 0
        },
        "id": "da99b043-9140-4837-ad94-36f83fcb1e46",
        "outputId": "cffd2195-b93e-4b05-bbbc-937da77bc402"
      },
      "outputs": [
        {
          "output_type": "stream",
          "name": "stdout",
          "text": [
            "1b: (6+4j)\n"
          ]
        }
      ],
      "source": [
        "print(\"1b:\",a+c)"
      ]
    },
    {
      "cell_type": "code",
      "execution_count": 4,
      "id": "cee910ea-2099-4f89-a703-a0969d136fdc",
      "metadata": {
        "colab": {
          "base_uri": "https://localhost:8080/",
          "height": 0
        },
        "id": "cee910ea-2099-4f89-a703-a0969d136fdc",
        "outputId": "68d62f10-ff5d-4588-ec02-741b3cc546bd"
      },
      "outputs": [
        {
          "output_type": "stream",
          "name": "stdout",
          "text": [
            "1c: (3-5j)\n"
          ]
        }
      ],
      "source": [
        "print(\"1c:\",d-a)"
      ]
    },
    {
      "cell_type": "code",
      "execution_count": 5,
      "id": "992ed805-9b13-41ef-a298-1f4006d79ff4",
      "metadata": {
        "colab": {
          "base_uri": "https://localhost:8080/",
          "height": 0
        },
        "id": "992ed805-9b13-41ef-a298-1f4006d79ff4",
        "outputId": "3a392a53-86a8-4c3c-e6bb-97d60870360d"
      },
      "outputs": [
        {
          "output_type": "stream",
          "name": "stdout",
          "text": [
            "1d: (-5+3j)\n"
          ]
        }
      ],
      "source": [
        "print(\"1d:\",b-d)"
      ]
    },
    {
      "cell_type": "code",
      "execution_count": 6,
      "id": "20707295-c26c-41ba-b9c2-ab902108c014",
      "metadata": {
        "colab": {
          "base_uri": "https://localhost:8080/",
          "height": 0
        },
        "id": "20707295-c26c-41ba-b9c2-ab902108c014",
        "outputId": "4f37f6af-ebcf-4395-eb9c-70cfa0d8445d"
      },
      "outputs": [
        {
          "output_type": "stream",
          "name": "stdout",
          "text": [
            "1e: (-3+2j)\n"
          ]
        }
      ],
      "source": [
        "print(\"1e:\",a * b)"
      ]
    },
    {
      "cell_type": "code",
      "execution_count": 7,
      "id": "4e2c5efd-707d-4ff3-81f4-3752c52076ea",
      "metadata": {
        "colab": {
          "base_uri": "https://localhost:8080/",
          "height": 0
        },
        "id": "4e2c5efd-707d-4ff3-81f4-3752c52076ea",
        "outputId": "3d2c260c-5050-4f04-a96a-a944426513af"
      },
      "outputs": [
        {
          "output_type": "stream",
          "name": "stdout",
          "text": [
            "1f: (-1+4j)\n"
          ]
        }
      ],
      "source": [
        "print(\"1f:\",b * c)"
      ]
    },
    {
      "cell_type": "code",
      "execution_count": 8,
      "id": "6abdc9a4-ff6c-4871-a442-494ba2f30c6d",
      "metadata": {
        "colab": {
          "base_uri": "https://localhost:8080/",
          "height": 0
        },
        "id": "6abdc9a4-ff6c-4871-a442-494ba2f30c6d",
        "outputId": "8059a0fd-f685-45e9-f19d-552141196b28"
      },
      "outputs": [
        {
          "output_type": "stream",
          "name": "stdout",
          "text": [
            "1g: (0.6470588235294118+0.5882352941176471j)\n"
          ]
        }
      ],
      "source": [
        "print(\"1g:\",a / c)"
      ]
    },
    {
      "cell_type": "code",
      "execution_count": 9,
      "id": "1d3d53f4-c1b7-4eb2-9970-92d19932e090",
      "metadata": {
        "colab": {
          "base_uri": "https://localhost:8080/",
          "height": 0
        },
        "id": "1d3d53f4-c1b7-4eb2-9970-92d19932e090",
        "outputId": "f1fa18c6-cc49-425f-dd9f-10691d274a41"
      },
      "outputs": [
        {
          "output_type": "stream",
          "name": "stdout",
          "text": [
            "1h: (1.0588235294117647-0.7647058823529411j)\n"
          ]
        }
      ],
      "source": [
        "print(\"1h:\",d / c)"
      ]
    },
    {
      "cell_type": "code",
      "execution_count": 10,
      "id": "2518f357-559b-4011-b3c3-6cb4f7ea8c0c",
      "metadata": {
        "colab": {
          "base_uri": "https://localhost:8080/",
          "height": 0
        },
        "id": "2518f357-559b-4011-b3c3-6cb4f7ea8c0c",
        "outputId": "4d73056c-384c-4579-ff64-7e06533ed145"
      },
      "outputs": [
        {
          "output_type": "stream",
          "name": "stdout",
          "text": [
            "1i: 3.605551275463989\n"
          ]
        }
      ],
      "source": [
        "print(\"1i:\",abs(a))"
      ]
    },
    {
      "cell_type": "code",
      "execution_count": 11,
      "id": "a4422216-c1ed-4e4d-9592-92fe87d1f4bd",
      "metadata": {
        "colab": {
          "base_uri": "https://localhost:8080/",
          "height": 0
        },
        "id": "a4422216-c1ed-4e4d-9592-92fe87d1f4bd",
        "outputId": "453cb379-ed2e-4420-a809-bbbd87ef746e"
      },
      "outputs": [
        {
          "output_type": "stream",
          "name": "stdout",
          "text": [
            "1j: 5.830951894845301\n"
          ]
        }
      ],
      "source": [
        "print(\"1j:\",abs(b - d))"
      ]
    },
    {
      "cell_type": "code",
      "execution_count": 12,
      "id": "cd096b10-e6a8-48ba-82bd-9054b78ea8eb",
      "metadata": {
        "colab": {
          "base_uri": "https://localhost:8080/",
          "height": 0
        },
        "id": "cd096b10-e6a8-48ba-82bd-9054b78ea8eb",
        "outputId": "e59597d1-9edd-4725-9ae8-5a6b405dfd01"
      },
      "outputs": [
        {
          "output_type": "stream",
          "name": "stdout",
          "text": [
            "1l: (4-1j)\n"
          ]
        }
      ],
      "source": [
        "print(\"1l:\",c.conjugate())"
      ]
    },
    {
      "cell_type": "code",
      "execution_count": 13,
      "id": "f5feb8b2-ad2e-42f6-99e7-80b21149bcb7",
      "metadata": {
        "colab": {
          "base_uri": "https://localhost:8080/",
          "height": 0
        },
        "id": "f5feb8b2-ad2e-42f6-99e7-80b21149bcb7",
        "outputId": "e8ab2ee1-13b6-4739-b988-2b3dbb61972a"
      },
      "outputs": [
        {
          "output_type": "stream",
          "name": "stdout",
          "text": [
            "1m: (4-2j)\n"
          ]
        }
      ],
      "source": [
        "print(\"1m:\",c.conjugate()+b.conjugate())"
      ]
    },
    {
      "cell_type": "markdown",
      "id": "48a1bdfa-2881-4b87-9170-17e6ce545db9",
      "metadata": {
        "id": "48a1bdfa-2881-4b87-9170-17e6ce545db9"
      },
      "source": [
        "OBS: Sugestões para gráficos em Python: https://python-graph-gallery.com/"
      ]
    },
    {
      "cell_type": "markdown",
      "id": "cb007d60-7096-458d-96ac-b0c4dd675d14",
      "metadata": {
        "id": "cb007d60-7096-458d-96ac-b0c4dd675d14"
      },
      "source": [
        "### Função no Python para Plotar um número utilizando a biblioteca Matplotlib"
      ]
    },
    {
      "cell_type": "code",
      "execution_count": 14,
      "id": "256113b8-189b-4817-983e-0839b6ee4ac3",
      "metadata": {
        "id": "256113b8-189b-4817-983e-0839b6ee4ac3"
      },
      "outputs": [],
      "source": [
        "#importar as bibliotecas\n",
        "import matplotlib.pyplot as plt\n",
        "import numpy as np\n",
        "\n",
        "#criando uma função para plotar\n",
        "\n",
        "def plotargant(x):\n",
        "    ponto = np.array(x)\n",
        "\n",
        "    x = ponto.real\n",
        "    y = ponto.imag\n",
        "\n",
        "    fig, ax = plt.subplots(1, figsize=(6, 4))\n",
        "    ax.scatter(x, y, s = 100, color = 'red')\n",
        "    ax.quiver(0, 0, x,y, units='xy', angles='xy', scale=1)\n",
        "\n",
        "    ax.spines['left'].set_position('zero')\n",
        "    ax.spines['right'].set_color('none')\n",
        "    ax.spines['bottom'].set_position('zero')\n",
        "    ax.spines['top'].set_color('none')\n",
        "\n",
        "    ax.set_ylabel('Im')\n",
        "    ax.set_xlabel('Re')\n",
        "    #ax.show()\n",
        "\n"
      ]
    },
    {
      "cell_type": "code",
      "execution_count": 15,
      "id": "8af67ed7-9469-4d07-bb8a-3c7aeb68c0cd",
      "metadata": {
        "colab": {
          "base_uri": "https://localhost:8080/",
          "height": 391
        },
        "id": "8af67ed7-9469-4d07-bb8a-3c7aeb68c0cd",
        "outputId": "912a5e97-ca7a-4d36-e708-15333fdd8631"
      },
      "outputs": [
        {
          "output_type": "stream",
          "name": "stdout",
          "text": [
            "Gráfico ponto a\n"
          ]
        },
        {
          "output_type": "display_data",
          "data": {
            "text/plain": [
              "<Figure size 600x400 with 1 Axes>"
            ],
            "image/png": "[encoded data removed]"
          },
          "metadata": {}
        }
      ],
      "source": [
        "print(\"Gráfico ponto a\")\n",
        "plotargant(a)"
      ]
    },
    {
      "cell_type": "code",
      "execution_count": 16,
      "id": "e40c3bcb-4d38-4e5d-922d-07166739584b",
      "metadata": {
        "colab": {
          "base_uri": "https://localhost:8080/",
          "height": 362
        },
        "id": "e40c3bcb-4d38-4e5d-922d-07166739584b",
        "outputId": "3da36f12-df22-4f0e-c61d-6d8bc3b6ec59"
      },
      "outputs": [
        {
          "output_type": "stream",
          "name": "stdout",
          "text": [
            "Gráfico 1l\n"
          ]
        },
        {
          "output_type": "display_data",
          "data": {
            "text/plain": [
              "<Figure size 600x400 with 1 Axes>"
            ],
            "image/png": "[encoded data removed]"
          },
          "metadata": {}
        }
      ],
      "source": [
        "print(\"Gráfico 1l\")\n",
        "plotargant(c.conjugate())"
      ]
    },
    {
      "cell_type": "markdown",
      "id": "e528ead5-4b4e-48ac-b34a-82a0b66b1481",
      "metadata": {
        "id": "e528ead5-4b4e-48ac-b34a-82a0b66b1481"
      },
      "source": [
        "# 2. Representação Polar/Exponencial"
      ]
    },
    {
      "cell_type": "markdown",
      "id": "3204d9d5-ada2-4ef3-ab48-b1bc9a8ac4cc",
      "metadata": {
        "id": "3204d9d5-ada2-4ef3-ab48-b1bc9a8ac4cc"
      },
      "source": [
        "2. Converta os números a seguir em polar:\n",
        "\n",
        "2a) a = 2 + 3j\n",
        "\n",
        "2b) b = 1j\n",
        "\n",
        "2c) c = 4 + 1j\n",
        "\n",
        "2d) d = 5 - 2j"
      ]
    },
    {
      "cell_type": "markdown",
      "id": "742ea9ba-20a9-4dd1-940d-0a4c96879169",
      "metadata": {
        "id": "742ea9ba-20a9-4dd1-940d-0a4c96879169"
      },
      "source": [
        "A fórmula de Euler:\n",
        "\n",
        "$e^{j\\theta} = \\cos\\theta + j\\sin\\theta$\n",
        "\n",
        "Pode ser utilizada para representar um número complexo na formula polar:\n",
        "\n",
        "$z = re^{j\\theta} = r\\cos\\theta+jr\\sin\\theta = r(\\cos\\theta+j\\sin\\theta)$\n",
        "\n",
        "Lembrando:\n",
        "$|z| = r = \\sqrt{x^2 + y^2} = \\sqrt{z\\bar{z}}$\n",
        "\n",
        "O principal argumento do ângulo: $-\\pi < \\theta < \\pi$.\n",
        "\n",
        "Outros valores possíveis para $\\theta = \\theta + 2n\\pi$, onde $n = \\pm 1, \\pm 2, ...$\n",
        "\n",
        "O número complexo $z = 1+1i$ pode ser representado das seguintes formas:\n",
        "\n",
        "1. Forma cartesiana: $z = 1+1i$\n",
        "2. Forma polar: $\\sqrt{2}(\\cos(\\frac{\\pi}{4}) + i \\sin(\\frac{\\pi}{4}))$\n",
        "3. Forma exponencial: $\\sqrt{2}e^{i\\pi/4}$"
      ]
    },
    {
      "cell_type": "code",
      "execution_count": 17,
      "id": "7972d37c-ab31-4e4e-bb1e-1ca875e2f980",
      "metadata": {
        "id": "7972d37c-ab31-4e4e-bb1e-1ca875e2f980"
      },
      "outputs": [],
      "source": [
        "#definindo os números nos Python:\n",
        "\n",
        "a = 2 + 3j\n",
        "\n",
        "b = 1j\n",
        "\n",
        "c = 4 + 1j\n",
        "\n",
        "d = 5 - 2j\n"
      ]
    },
    {
      "cell_type": "code",
      "execution_count": 18,
      "id": "fe4221ee-6501-408a-806f-0cc3092c80ea",
      "metadata": {
        "colab": {
          "base_uri": "https://localhost:8080/",
          "height": 0
        },
        "id": "fe4221ee-6501-408a-806f-0cc3092c80ea",
        "outputId": "dfc8a255-0f64-4fd4-b473-9ca8b3791ade"
      },
      "outputs": [
        {
          "output_type": "execute_result",
          "data": {
            "text/plain": [
              "(3.605551275463989, 0.982793723247329)"
            ]
          },
          "metadata": {},
          "execution_count": 18
        }
      ],
      "source": [
        "#importando a biblioteca cmath (para cálculos dos complexos)\n",
        "\n",
        "import cmath\n",
        "\n",
        "cmath.polar(a)"
      ]
    },
    {
      "cell_type": "code",
      "execution_count": 19,
      "id": "f14045bf-4a86-400d-8bd0-b33457cca02d",
      "metadata": {
        "colab": {
          "base_uri": "https://localhost:8080/",
          "height": 0
        },
        "id": "f14045bf-4a86-400d-8bd0-b33457cca02d",
        "outputId": "10d821ee-09cb-4516-ebd4-4ec691252194"
      },
      "outputs": [
        {
          "output_type": "execute_result",
          "data": {
            "text/plain": [
              "(1.0, 1.5707963267948966)"
            ]
          },
          "metadata": {},
          "execution_count": 19
        }
      ],
      "source": [
        "cmath.polar(b)"
      ]
    },
    {
      "cell_type": "markdown",
      "id": "4d2810b7-773b-484c-b0f1-585e7325e996",
      "metadata": {
        "id": "4d2810b7-773b-484c-b0f1-585e7325e996"
      },
      "source": [
        "Neste caso (2a) o número 2 + 3j, pode ser representado como o valor\n",
        "\n",
        "aproximado de r = 3,60 e o argumento de 0,98 radianos ou melhor (56,3 graus).\n",
        "\n",
        "Utilizando a notação de Euler:\n",
        "\n",
        "$a = 2+3j = 3.6e^{j0.98}=3.6(\\cos{0.98}+j\\sin{0.98})$"
      ]
    },
    {
      "cell_type": "markdown",
      "id": "53e966f2-0dbf-4c1b-9af2-3b4cc4e85965",
      "metadata": {
        "id": "53e966f2-0dbf-4c1b-9af2-3b4cc4e85965"
      },
      "source": [
        "Comandos interessantes para o cmath:"
      ]
    },
    {
      "cell_type": "code",
      "execution_count": 20,
      "id": "71caf2c5-6ebe-41d4-bc4f-bdb98f415b4b",
      "metadata": {
        "colab": {
          "base_uri": "https://localhost:8080/",
          "height": 0
        },
        "id": "71caf2c5-6ebe-41d4-bc4f-bdb98f415b4b",
        "outputId": "2754e998-0fc0-4f85-eb86-4fc017287a08"
      },
      "outputs": [
        {
          "output_type": "execute_result",
          "data": {
            "text/plain": [
              "3.605551275463989"
            ]
          },
          "metadata": {},
          "execution_count": 20
        }
      ],
      "source": [
        "#Para calcular o modulo de a:\n",
        "\n",
        "abs(a)"
      ]
    },
    {
      "cell_type": "code",
      "execution_count": 21,
      "id": "95852933-89cf-49f6-aee0-cb48fbd1e387",
      "metadata": {
        "colab": {
          "base_uri": "https://localhost:8080/",
          "height": 0
        },
        "id": "95852933-89cf-49f6-aee0-cb48fbd1e387",
        "outputId": "c1997f6a-96a1-4594-c9ba-7dfb8d4a8281"
      },
      "outputs": [
        {
          "output_type": "execute_result",
          "data": {
            "text/plain": [
              "0.982793723247329"
            ]
          },
          "metadata": {},
          "execution_count": 21
        }
      ],
      "source": [
        "#para obter o valor do angulo Theta:\n",
        "\n",
        "cmath.phase(a)"
      ]
    },
    {
      "cell_type": "code",
      "execution_count": 22,
      "id": "e8fbaeb3-afcd-418a-afe3-131db251c7f7",
      "metadata": {
        "colab": {
          "base_uri": "https://localhost:8080/",
          "height": 0
        },
        "id": "e8fbaeb3-afcd-418a-afe3-131db251c7f7",
        "outputId": "7484d86e-ea2b-4000-80be-726a50d5d6ff"
      },
      "outputs": [
        {
          "output_type": "execute_result",
          "data": {
            "text/plain": [
              "0.982793723247329"
            ]
          },
          "metadata": {},
          "execution_count": 22
        }
      ],
      "source": [
        "# Importar a biblioteca math (para calcular o arco tangente)\n",
        "\n",
        "import math\n",
        "\n",
        "#que é igual a:\n",
        "\n",
        "math.atan(a.imag/a.real)"
      ]
    },
    {
      "cell_type": "code",
      "execution_count": 23,
      "id": "55002a16-764a-426b-97b4-aefe05abd731",
      "metadata": {
        "colab": {
          "base_uri": "https://localhost:8080/",
          "height": 0
        },
        "id": "55002a16-764a-426b-97b4-aefe05abd731",
        "outputId": "6d0b332f-396d-4e96-bc4a-fd8bda6ef581"
      },
      "outputs": [
        {
          "output_type": "execute_result",
          "data": {
            "text/plain": [
              "56.3"
            ]
          },
          "metadata": {},
          "execution_count": 23
        }
      ],
      "source": [
        "#convertendo para graus\n",
        "\n",
        "round(math.degrees(cmath.phase(a)), 1)"
      ]
    },
    {
      "cell_type": "code",
      "execution_count": 24,
      "id": "19993f39-aebd-45c6-b974-b5368c552946",
      "metadata": {
        "colab": {
          "base_uri": "https://localhost:8080/",
          "height": 0
        },
        "id": "19993f39-aebd-45c6-b974-b5368c552946",
        "outputId": "020c0e26-76d9-422d-a62a-027645cea372"
      },
      "outputs": [
        {
          "output_type": "execute_result",
          "data": {
            "text/plain": [
              "(2+3j)"
            ]
          },
          "metadata": {},
          "execution_count": 24
        }
      ],
      "source": [
        "# Realizando o caminho inverso\n",
        "# a forma polar para a forma algébrica\n",
        "# r*(cos(theta) + i sen(theta) para\n",
        "# (x+yj)\n",
        "\n",
        "abs(a) * (math.cos(cmath.phase(a)) + math.sin(cmath.phase(a))*1j)\n"
      ]
    },
    {
      "cell_type": "code",
      "execution_count": 25,
      "id": "78c6a5c2-7297-4aaa-857e-330fc69272f4",
      "metadata": {
        "id": "78c6a5c2-7297-4aaa-857e-330fc69272f4"
      },
      "outputs": [],
      "source": [
        "# função para plotar o número\n",
        "\n",
        "def plotapolar(z):\n",
        "    fig, ax = plt.subplots(subplot_kw={'projection': 'polar'}, figsize=(4, 4))\n",
        "    ax.plot(cmath.phase(z), abs(z), marker='o', markersize=15, color='red')\n",
        "    ax.quiver(0, 0, z.real, z.imag, scale=0.1)\n",
        "    plt.show()"
      ]
    },
    {
      "cell_type": "code",
      "execution_count": 26,
      "id": "3f531084-65fe-445a-ac90-09ef00157057",
      "metadata": {
        "colab": {
          "base_uri": "https://localhost:8080/",
          "height": 397
        },
        "id": "3f531084-65fe-445a-ac90-09ef00157057",
        "outputId": "2b5d327e-240d-4f87-fe0d-305b83f0dabc"
      },
      "outputs": [
        {
          "output_type": "display_data",
          "data": {
            "text/plain": [
              "<Figure size 400x400 with 1 Axes>"
            ],
            "image/png": "[encoded data removed]"
          },
          "metadata": {}
        }
      ],
      "source": [
        "plotapolar(a)"
      ]
    },
    {
      "cell_type": "code",
      "execution_count": 27,
      "id": "10607e95-f20a-46ed-8ff8-456e18744214",
      "metadata": {
        "colab": {
          "base_uri": "https://localhost:8080/",
          "height": 414
        },
        "id": "10607e95-f20a-46ed-8ff8-456e18744214",
        "outputId": "24092ae2-054a-4eb1-bdee-fa166ac40809"
      },
      "outputs": [
        {
          "output_type": "stream",
          "name": "stdout",
          "text": [
            "(1.0, 1.5707963267948966)\n"
          ]
        },
        {
          "output_type": "display_data",
          "data": {
            "text/plain": [
              "<Figure size 400x400 with 1 Axes>"
            ],
            "image/png": "[encoded data removed]"
          },
          "metadata": {}
        }
      ],
      "source": [
        "# 2b) b = 1j\n",
        "\n",
        "print(cmath.polar(b))\n",
        "\n",
        "plotapolar(b)"
      ]
    },
    {
      "cell_type": "code",
      "execution_count": 28,
      "id": "adb8e104-7008-48e7-90ff-344f9b517b78",
      "metadata": {
        "colab": {
          "base_uri": "https://localhost:8080/",
          "height": 414
        },
        "id": "adb8e104-7008-48e7-90ff-344f9b517b78",
        "outputId": "49a702af-9573-4847-a325-44b395c2604f"
      },
      "outputs": [
        {
          "output_type": "stream",
          "name": "stdout",
          "text": [
            "(4.123105625617661, 0.24497866312686414)\n"
          ]
        },
        {
          "output_type": "display_data",
          "data": {
            "text/plain": [
              "<Figure size 400x400 with 1 Axes>"
            ],
            "image/png": "[encoded data removed]"
          },
          "metadata": {}
        }
      ],
      "source": [
        "# 2c) c = 4 + 1j\n",
        "\n",
        "print(cmath.polar(c))\n",
        "\n",
        "plotapolar(c)"
      ]
    },
    {
      "cell_type": "code",
      "execution_count": 29,
      "id": "cc1e3c23-04e3-49c1-be36-9e8b1ecb155d",
      "metadata": {
        "colab": {
          "base_uri": "https://localhost:8080/",
          "height": 414
        },
        "id": "cc1e3c23-04e3-49c1-be36-9e8b1ecb155d",
        "outputId": "8e238d7b-0c9e-493d-a23b-848f06a65e3e"
      },
      "outputs": [
        {
          "output_type": "stream",
          "name": "stdout",
          "text": [
            "(5.385164807134504, -0.3805063771123649)\n"
          ]
        },
        {
          "output_type": "display_data",
          "data": {
            "text/plain": [
              "<Figure size 400x400 with 1 Axes>"
            ],
            "image/png": "[encoded data removed]"
          },
          "metadata": {}
        }
      ],
      "source": [
        "#2d) d = 5 - 2j\n",
        "\n",
        "print(cmath.polar(d))\n",
        "\n",
        "plotapolar(d)"
      ]
    },
    {
      "cell_type": "markdown",
      "id": "16ef75c5-6b9b-41ea-a60a-9eb10ae5d4a7",
      "metadata": {
        "id": "16ef75c5-6b9b-41ea-a60a-9eb10ae5d4a7"
      },
      "source": [
        "## 2.1 Multiplicação e divisão de números polares\n",
        "\n",
        "Sendo:\n",
        "\n",
        "$z_1 = r_1(\\cos\\theta_1 + i\\sin \\theta_1)$\n",
        "\n",
        "$z_2 = r_2(\\cos\\theta_2 + i\\sin \\theta_2)$\n",
        "\n",
        "### Multiplicação para a forma polar:\n",
        "\n",
        "$z_1z_2= r_1r_2[\\cos(\\theta_1+\\theta_2) + i \\sin((\\theta_1+\\theta_2)]$\n",
        "\n",
        "### Divisão para a forma polar:\n",
        "\n",
        "$\\frac{z_1}{z_2}= \\frac{r_1}{r_2}[\\cos(\\theta_1-\\theta_2) + i \\sin((\\theta_1-\\theta_2)]$\n",
        "\n",
        "Lembrando que:\n",
        "\n",
        "$arg(z_1z_2) = arg z_1 + arg z_2$  e\n",
        "\n",
        "$arg(\\frac{z_1}{z_2}) = arg z_1 -arg z_2$\n"
      ]
    },
    {
      "cell_type": "markdown",
      "id": "73eabc3a-ff21-44f5-8b5a-87eeefd7f9ee",
      "metadata": {
        "id": "73eabc3a-ff21-44f5-8b5a-87eeefd7f9ee"
      },
      "source": [
        "Calcule a multiplicação e divisão utilizando a forma polar dos números\n",
        "\n",
        "2d) a * b =\n",
        "\n",
        "cmath.polar(a):\n",
        "(3.605551275463989, 0.982793723247329)\n",
        "\n",
        "cmath.polar(b)\n",
        "(1.0, 1.5707963267948966)\n",
        "\n",
        "$z_1z_2= r_1r_2[\\cos(\\theta_1+\\theta_2) + i \\sin(\\theta_1+\\theta_2)]$\n",
        "\n",
        "$a*b= 3.6*1[\\cos(0.982+1.571) + i \\sin(0.982+1.571)]$"
      ]
    },
    {
      "cell_type": "code",
      "execution_count": 30,
      "id": "5df65336-a0c6-4bd6-832e-94f47374204b",
      "metadata": {
        "colab": {
          "base_uri": "https://localhost:8080/",
          "height": 0
        },
        "id": "5df65336-a0c6-4bd6-832e-94f47374204b",
        "outputId": "c9c0d0ac-e156-4b8a-b8b4-b9863fd21c08"
      },
      "outputs": [
        {
          "output_type": "execute_result",
          "data": {
            "text/plain": [
              "(3.605551275463989, 2.5535900500422257)"
            ]
          },
          "metadata": {},
          "execution_count": 30
        }
      ],
      "source": [
        "cmath.polar(a*b)"
      ]
    },
    {
      "cell_type": "code",
      "execution_count": 31,
      "id": "9ef3d9d9-7951-4a62-b064-60d61b16e23b",
      "metadata": {
        "colab": {
          "base_uri": "https://localhost:8080/",
          "height": 397
        },
        "id": "9ef3d9d9-7951-4a62-b064-60d61b16e23b",
        "outputId": "5bda9495-8e11-4256-e318-2fe43fd4312f"
      },
      "outputs": [
        {
          "output_type": "display_data",
          "data": {
            "text/plain": [
              "<Figure size 400x400 with 1 Axes>"
            ],
            "image/png": "[encoded data removed]"
          },
          "metadata": {}
        }
      ],
      "source": [
        "plotapolar(a*b)"
      ]
    },
    {
      "cell_type": "code",
      "execution_count": 32,
      "id": "04f5ca99-9882-4066-87d6-bb1af3df89e1",
      "metadata": {
        "colab": {
          "base_uri": "https://localhost:8080/",
          "height": 0
        },
        "id": "04f5ca99-9882-4066-87d6-bb1af3df89e1",
        "outputId": "af83cdc1-5a5f-41bc-ebb4-7cd5c435851e"
      },
      "outputs": [
        {
          "output_type": "execute_result",
          "data": {
            "text/plain": [
              "(-3+2j)"
            ]
          },
          "metadata": {},
          "execution_count": 32
        }
      ],
      "source": [
        "abs(a)*abs(b)*(math.cos(cmath.phase(a)+cmath.phase(b))+math.sin(cmath.phase(a)+cmath.phase(b))*1j)"
      ]
    },
    {
      "cell_type": "markdown",
      "id": "81f2f062-3976-49ac-b038-80403fb425b5",
      "metadata": {
        "id": "81f2f062-3976-49ac-b038-80403fb425b5"
      },
      "source": [
        "2e) b * c =\n",
        "\n",
        "2f) a / c =\n",
        "\n",
        "2g) d / c ="
      ]
    },
    {
      "cell_type": "markdown",
      "id": "2b5e327e-eaa5-408f-b4a9-9f6d87ecc141",
      "metadata": {
        "id": "2b5e327e-eaa5-408f-b4a9-9f6d87ecc141"
      },
      "source": [
        "## 2.2 - Utilizando o Sympy\n",
        "\n",
        "A biblioteca Sympy possibilita a manipulação simbólica. O termo da unidade imaginária nesta biblioteca é o \"I\":"
      ]
    },
    {
      "cell_type": "code",
      "execution_count": 33,
      "id": "6f9d22ff-0623-4891-b991-20581d8d2b21",
      "metadata": {
        "id": "6f9d22ff-0623-4891-b991-20581d8d2b21"
      },
      "outputs": [],
      "source": [
        "from sympy import I, re, im, Abs, arg, conjugate, solve, Symbol, deg"
      ]
    },
    {
      "cell_type": "code",
      "execution_count": 34,
      "id": "20fafcd0-6c62-43c9-b3b9-d57eda696a1f",
      "metadata": {
        "colab": {
          "base_uri": "https://localhost:8080/",
          "height": 0
        },
        "id": "20fafcd0-6c62-43c9-b3b9-d57eda696a1f",
        "outputId": "8cb00e4f-41a5-470f-9916-a4c78081f0f1"
      },
      "outputs": [
        {
          "output_type": "execute_result",
          "data": {
            "text/plain": [
              "(2+3j)"
            ]
          },
          "metadata": {},
          "execution_count": 34
        }
      ],
      "source": [
        "#Utilizando a representação do Python padrão:\n",
        "z1 = 2 + 3j\n",
        "z1"
      ]
    },
    {
      "cell_type": "code",
      "execution_count": 35,
      "id": "234356ea-4ffc-4e03-846f-0c377646e2a8",
      "metadata": {
        "colab": {
          "base_uri": "https://localhost:8080/",
          "height": 39
        },
        "id": "234356ea-4ffc-4e03-846f-0c377646e2a8",
        "outputId": "5ae894ae-47c3-4c64-fc46-d75fe8ab77cf"
      },
      "outputs": [
        {
          "output_type": "execute_result",
          "data": {
            "text/plain": [
              "2 + 3*I"
            ],
            "text/latex": "$\\displaystyle 2 + 3 i$"
          },
          "metadata": {},
          "execution_count": 35
        }
      ],
      "source": [
        "#Utilizando a representação do Sympy\n",
        "z = 2 +3*I\n",
        "z"
      ]
    },
    {
      "cell_type": "code",
      "execution_count": 36,
      "id": "e4bae8f3-5907-4a77-88bb-ed00bcfdac4a",
      "metadata": {
        "colab": {
          "base_uri": "https://localhost:8080/",
          "height": 37
        },
        "id": "e4bae8f3-5907-4a77-88bb-ed00bcfdac4a",
        "outputId": "5727b423-e79a-455e-deaa-9dc94920bb96"
      },
      "outputs": [
        {
          "output_type": "execute_result",
          "data": {
            "text/plain": [
              "2"
            ],
            "text/latex": "$\\displaystyle 2$"
          },
          "metadata": {},
          "execution_count": 36
        }
      ],
      "source": [
        "#Para obter a parte real de z\n",
        "re(z)"
      ]
    },
    {
      "cell_type": "code",
      "execution_count": 37,
      "id": "7eb502d4-cfb5-450b-a2d9-0073afe77078",
      "metadata": {
        "colab": {
          "base_uri": "https://localhost:8080/",
          "height": 37
        },
        "id": "7eb502d4-cfb5-450b-a2d9-0073afe77078",
        "outputId": "efaebc49-2224-439c-bdc6-2277e5506387"
      },
      "outputs": [
        {
          "output_type": "execute_result",
          "data": {
            "text/plain": [
              "3"
            ],
            "text/latex": "$\\displaystyle 3$"
          },
          "metadata": {},
          "execution_count": 37
        }
      ],
      "source": [
        "#Para obter a parte imaginária de z\n",
        "im(z)"
      ]
    },
    {
      "cell_type": "code",
      "execution_count": 38,
      "id": "8d0af00f-1022-4294-9b8e-52c73cf284bf",
      "metadata": {
        "colab": {
          "base_uri": "https://localhost:8080/",
          "height": 38
        },
        "id": "8d0af00f-1022-4294-9b8e-52c73cf284bf",
        "outputId": "326682ac-c0a0-40f4-f2c5-e40be1842ce7"
      },
      "outputs": [
        {
          "output_type": "execute_result",
          "data": {
            "text/plain": [
              "sqrt(13)"
            ],
            "text/latex": "$\\displaystyle \\sqrt{13}$"
          },
          "metadata": {},
          "execution_count": 38
        }
      ],
      "source": [
        "#Para obter o módulo de z\n",
        "Abs(z)"
      ]
    },
    {
      "cell_type": "code",
      "execution_count": 39,
      "id": "02296e4c-818c-4b1c-9688-3202531825d5",
      "metadata": {
        "colab": {
          "base_uri": "https://localhost:8080/",
          "height": 39
        },
        "id": "02296e4c-818c-4b1c-9688-3202531825d5",
        "outputId": "9c722406-6a8b-4ada-843b-cd22105d672a"
      },
      "outputs": [
        {
          "output_type": "execute_result",
          "data": {
            "text/plain": [
              "2 - 3*I"
            ],
            "text/latex": "$\\displaystyle 2 - 3 i$"
          },
          "metadata": {},
          "execution_count": 39
        }
      ],
      "source": [
        "#Para obter o conjugado de z\n",
        "conjugate(z)"
      ]
    },
    {
      "cell_type": "code",
      "execution_count": 40,
      "id": "e94c1c47-134e-4062-9a6c-7bd239ffe6fa",
      "metadata": {
        "colab": {
          "base_uri": "https://localhost:8080/",
          "height": 58
        },
        "id": "e94c1c47-134e-4062-9a6c-7bd239ffe6fa",
        "outputId": "5c5e91c0-56f6-4227-c09e-5877ef6ec1ba"
      },
      "outputs": [
        {
          "output_type": "execute_result",
          "data": {
            "text/plain": [
              "atan(3/2)"
            ],
            "text/latex": "$\\displaystyle \\operatorname{atan}{\\left(\\frac{3}{2} \\right)}$"
          },
          "metadata": {},
          "execution_count": 40
        }
      ],
      "source": [
        "#Para encontrar o argumento do complexo\n",
        "arg(z)"
      ]
    },
    {
      "cell_type": "code",
      "execution_count": 41,
      "id": "1f717e37-0bd4-4ece-86ad-99138f444ad6",
      "metadata": {
        "colab": {
          "base_uri": "https://localhost:8080/",
          "height": 37
        },
        "id": "1f717e37-0bd4-4ece-86ad-99138f444ad6",
        "outputId": "551ba36c-2518-4f4c-bcd3-412aaadc146b"
      },
      "outputs": [
        {
          "output_type": "execute_result",
          "data": {
            "text/plain": [
              "0.982793723247329"
            ],
            "text/latex": "$\\displaystyle 0.982793723247329$"
          },
          "metadata": {},
          "execution_count": 41
        }
      ],
      "source": [
        "#Para encontrar o valor do argumento em radianos\n",
        "arg(z).n()"
      ]
    },
    {
      "cell_type": "code",
      "execution_count": 42,
      "id": "4539c1f9-8124-49e1-a38d-1a40f22a49ee",
      "metadata": {
        "colab": {
          "base_uri": "https://localhost:8080/",
          "height": 37
        },
        "id": "4539c1f9-8124-49e1-a38d-1a40f22a49ee",
        "outputId": "f730f948-54aa-4c59-83c0-de4a4ce60b0f"
      },
      "outputs": [
        {
          "output_type": "execute_result",
          "data": {
            "text/plain": [
              "56.31"
            ],
            "text/latex": "$\\displaystyle 56.31$"
          },
          "metadata": {},
          "execution_count": 42
        }
      ],
      "source": [
        "#Para encontrar o valor em graus:\n",
        "\n",
        "deg(arg(z)).n(4)"
      ]
    },
    {
      "cell_type": "code",
      "execution_count": 43,
      "id": "05e5bb31-43a5-4732-94a4-2d7b4b3aba98",
      "metadata": {
        "colab": {
          "base_uri": "https://localhost:8080/",
          "height": 39
        },
        "id": "05e5bb31-43a5-4732-94a4-2d7b4b3aba98",
        "outputId": "b30bbda4-5691-48ed-c514-1dff1031d1c9"
      },
      "outputs": [
        {
          "output_type": "execute_result",
          "data": {
            "text/plain": [
              "r*exp(I*\\theta)"
            ],
            "text/latex": "$\\displaystyle r e^{i \\theta}$"
          },
          "metadata": {},
          "execution_count": 43
        }
      ],
      "source": [
        "# Representando a formula de Euler\n",
        "# Realizando a importação necessarias:\n",
        "\n",
        "from sympy import exp, sin, cos, symbols\n",
        "\n",
        "# Para que o Sympy o theta\n",
        "\n",
        "r, theta = symbols(r\"r, \\theta\", real = True)\n",
        "\n",
        "r*exp(I * theta)"
      ]
    },
    {
      "cell_type": "markdown",
      "id": "3387787a-36dc-41ee-93be-8940dfb3ed11",
      "metadata": {
        "id": "3387787a-36dc-41ee-93be-8940dfb3ed11"
      },
      "source": [
        "Sympy possui os métodos \"expand\" e \"simplify\" para efetuar a manipulação algébricas de expressões:"
      ]
    },
    {
      "cell_type": "code",
      "execution_count": 44,
      "id": "28b66eed-83a9-4fb7-be09-348d220cd187",
      "metadata": {
        "colab": {
          "base_uri": "https://localhost:8080/",
          "height": 39
        },
        "id": "28b66eed-83a9-4fb7-be09-348d220cd187",
        "outputId": "8e0ac245-96be-402f-8f5f-f7e2f6373ddf"
      },
      "outputs": [
        {
          "output_type": "execute_result",
          "data": {
            "text/plain": [
              "r*(I*sin(\\theta) + cos(\\theta))"
            ],
            "text/latex": "$\\displaystyle r \\left(i \\sin{\\left(\\theta \\right)} + \\cos{\\left(\\theta \\right)}\\right)$"
          },
          "metadata": {},
          "execution_count": 44
        }
      ],
      "source": [
        "r*exp(I * theta).expand(complex=True)"
      ]
    },
    {
      "cell_type": "code",
      "execution_count": 45,
      "id": "abc95adc-b777-4266-b5b9-f49cd98fe817",
      "metadata": {
        "colab": {
          "base_uri": "https://localhost:8080/",
          "height": 39
        },
        "id": "abc95adc-b777-4266-b5b9-f49cd98fe817",
        "outputId": "7a5c3d92-6515-4aa9-d376-bdb61ede7ee5"
      },
      "outputs": [
        {
          "output_type": "execute_result",
          "data": {
            "text/plain": [
              "r*exp(I*\\theta)"
            ],
            "text/latex": "$\\displaystyle r e^{i \\theta}$"
          },
          "metadata": {},
          "execution_count": 45
        }
      ],
      "source": [
        "r*(cos(theta) + I * sin(theta)).simplify()"
      ]
    },
    {
      "cell_type": "code",
      "execution_count": 46,
      "id": "28749cf2-e134-4800-9f9b-7875deaf6c07",
      "metadata": {
        "id": "28749cf2-e134-4800-9f9b-7875deaf6c07"
      },
      "outputs": [],
      "source": [
        "from sympy import exp_polar, pi, I, exp, sqrt\n",
        "\n"
      ]
    },
    {
      "cell_type": "code",
      "execution_count": 47,
      "id": "ceb459f4-ce92-4905-8eb2-b859b7707e4d",
      "metadata": {
        "colab": {
          "base_uri": "https://localhost:8080/",
          "height": 42
        },
        "id": "ceb459f4-ce92-4905-8eb2-b859b7707e4d",
        "outputId": "23132846-1388-41d1-f760-ec0ccdd69809"
      },
      "outputs": [
        {
          "output_type": "execute_result",
          "data": {
            "text/plain": [
              "sqrt(13)*exp(I*atan(3/2))"
            ],
            "text/latex": "$\\displaystyle \\sqrt{13} e^{i \\operatorname{atan}{\\left(\\frac{3}{2} \\right)}}$"
          },
          "metadata": {},
          "execution_count": 47
        }
      ],
      "source": [
        "#Para obter a forma algebrica da forma exponencia:\n",
        "\n",
        "from sympy import atan\n",
        "\n",
        "expr = (r * exp(I * theta)).subs({r:sqrt(13), theta: atan('3/2')})\n",
        "expr"
      ]
    },
    {
      "cell_type": "code",
      "execution_count": 48,
      "id": "16c89bcb-6037-49bb-bfef-57fd20918ca9",
      "metadata": {
        "colab": {
          "base_uri": "https://localhost:8080/",
          "height": 0
        },
        "id": "16c89bcb-6037-49bb-bfef-57fd20918ca9",
        "outputId": "ff6a27da-9ebc-49b0-a1c6-1caae0b92d7b"
      },
      "outputs": [
        {
          "output_type": "execute_result",
          "data": {
            "text/plain": [
              "(2, 3)"
            ]
          },
          "metadata": {},
          "execution_count": 48
        }
      ],
      "source": [
        "expr.as_real_imag()"
      ]
    },
    {
      "cell_type": "code",
      "execution_count": 49,
      "id": "6ee4680d-2218-4975-9175-8361b8d0ce09",
      "metadata": {
        "colab": {
          "base_uri": "https://localhost:8080/",
          "height": 397
        },
        "id": "6ee4680d-2218-4975-9175-8361b8d0ce09",
        "outputId": "e1db24cb-f614-43b6-b92f-5396370beb2c"
      },
      "outputs": [
        {
          "output_type": "display_data",
          "data": {
            "text/plain": [
              "<Figure size 400x400 with 1 Axes>"
            ],
            "image/png": "[encoded data removed]"
          },
          "metadata": {}
        }
      ],
      "source": [
        "plotapolar(2+3j)"
      ]
    },
    {
      "cell_type": "markdown",
      "id": "79a605b5-717b-4054-9f4e-f510342409d9",
      "metadata": {
        "id": "79a605b5-717b-4054-9f4e-f510342409d9"
      },
      "source": [
        "# 3. Raízes de z\n",
        "\n",
        "### Fórmula de De Moivre\n",
        "\n",
        "Se $n$ é um inteiro:\n",
        "\n",
        "$z^n = [r(\\cos\\theta + i\\sin\\theta)]^n = r^n(\\cos n \\theta + i\\sin n \\theta)]$\n",
        "\n",
        "Se $z = w^n$ e $w = \\sqrt[n]{z}$\n",
        "\n",
        "$\\sqrt[n]{z} = \\sqrt[n]{r}$\n",
        "\n",
        "$\\sqrt[n]{z} = \\sqrt[n]{r}(\\cos \\frac{\\theta + 2k \\pi}{n} + i\\sin \\frac{\\theta + 2k \\pi}{n})$\n",
        "\n",
        "n valores dentro de um circulo de raio $\\sqrt[n]{r}$ com centro na origem. Poligono regular de $n$ lados.\n",
        "\n",
        "O valor principal de $w$ é quando $k=0$  \n",
        "\n",
        "Se $z = 1$, temos $r = 1$ e $\\theta = 0$, resultando nas $n$ raizes da unidade\n",
        "\n",
        "$\\sqrt[n]{1} = (\\cos \\frac{2k \\pi}{n} + i\\sin \\frac{2k \\pi}{n})$\n",
        "\n"
      ]
    },
    {
      "cell_type": "markdown",
      "id": "ea3918dc-868b-4608-bf22-b83f3f8f9f9d",
      "metadata": {
        "id": "ea3918dc-868b-4608-bf22-b83f3f8f9f9d"
      },
      "source": [
        "3.1 - Encontre as raízes quadradas de 4i:\n",
        "\n",
        "$4i = 4e^{i\\frac{\\pi}{2}}$\n",
        "\n",
        "Desta forma:\n",
        "\n",
        "r = 4, $\\theta = \\frac{\\pi}{2}$ e n = 2\n",
        "\n",
        "$\\sqrt[2]{4e^{i\\frac{\\pi}{2}}} = \\sqrt[2]{4}(\\cos \\frac{\\frac{\\pi}{2} + 2k \\pi}{2} + i\\sin \\frac{\\frac{\\pi}{2} + 2k \\pi}{2})$, k = 0,1\n",
        "\n",
        "Para k = 0\n",
        "\n",
        "$2* \\cos(\\frac{\\pi}{4}) + i\\sin(\\frac{\\pi}{4})$\n",
        "\n",
        "\n"
      ]
    },
    {
      "cell_type": "code",
      "execution_count": 50,
      "id": "18695a86-c684-4f27-9b0e-ea44bd586247",
      "metadata": {
        "colab": {
          "base_uri": "https://localhost:8080/",
          "height": 39
        },
        "id": "18695a86-c684-4f27-9b0e-ea44bd586247",
        "outputId": "92455aba-925c-4590-9f08-ecf76e1e71f4"
      },
      "outputs": [
        {
          "output_type": "execute_result",
          "data": {
            "text/plain": [
              "1.4142135623731 + 1.41421356237309*I"
            ],
            "text/latex": "$\\displaystyle 1.4142135623731 + 1.41421356237309 i$"
          },
          "metadata": {},
          "execution_count": 50
        }
      ],
      "source": [
        "a = 2*(math.cos(pi/4)+math.sin(pi/4)*I)\n",
        "\n",
        "abs(a) * (math.cos(cmath.phase(a)) + math.sin(cmath.phase(a))*1j)"
      ]
    },
    {
      "cell_type": "markdown",
      "id": "1f50e9cb-1b34-4805-8b5d-af76e8c1baa2",
      "metadata": {
        "id": "1f50e9cb-1b34-4805-8b5d-af76e8c1baa2"
      },
      "source": [
        "Para k = 1\n",
        "\n",
        "$2* \\cos(\\frac{\\pi}{4}+\\pi) + i\\sin(\\frac{\\pi}{4}+\\pi)$"
      ]
    },
    {
      "cell_type": "code",
      "execution_count": 51,
      "id": "be335d72-205c-4f68-aadf-5c8895129545",
      "metadata": {
        "colab": {
          "base_uri": "https://localhost:8080/",
          "height": 39
        },
        "id": "be335d72-205c-4f68-aadf-5c8895129545",
        "outputId": "7f849778-15d1-43ca-a7ab-31864bdf7cd5"
      },
      "outputs": [
        {
          "output_type": "execute_result",
          "data": {
            "text/plain": [
              "-1.4142135623731 - 1.41421356237309*I"
            ],
            "text/latex": "$\\displaystyle -1.4142135623731 - 1.41421356237309 i$"
          },
          "metadata": {},
          "execution_count": 51
        }
      ],
      "source": [
        "a = 2*(math.cos(5*pi/4)+math.sin(5*pi/4)*I)\n",
        "a"
      ]
    },
    {
      "cell_type": "markdown",
      "id": "407302c3-4240-42f3-b0d7-b17426c6818f",
      "metadata": {
        "id": "407302c3-4240-42f3-b0d7-b17426c6818f"
      },
      "source": [
        "As raizes são:\n",
        "\n",
        "$= \\pm (\\sqrt(2) + i\\sqrt(2))$"
      ]
    },
    {
      "cell_type": "code",
      "execution_count": 52,
      "id": "80b1607b-901b-433f-b18a-7f7013caafc9",
      "metadata": {
        "colab": {
          "base_uri": "https://localhost:8080/",
          "height": 40
        },
        "id": "80b1607b-901b-433f-b18a-7f7013caafc9",
        "outputId": "ff9de1b6-73c3-4ca4-e8a6-14ea2744fe64"
      },
      "outputs": [
        {
          "output_type": "execute_result",
          "data": {
            "text/plain": [
              "sqrt(2) + sqrt(2)*I"
            ],
            "text/latex": "$\\displaystyle \\sqrt{2} + \\sqrt{2} i$"
          },
          "metadata": {},
          "execution_count": 52
        }
      ],
      "source": [
        "#A primeira raiz pode ser obtida pelo\n",
        "sqrt(4*I).expand(complex = True)"
      ]
    },
    {
      "cell_type": "code",
      "execution_count": 53,
      "id": "a6098fa3-8ff1-46a5-a04f-b18d3a2f9995",
      "metadata": {
        "colab": {
          "base_uri": "https://localhost:8080/",
          "height": 0
        },
        "id": "a6098fa3-8ff1-46a5-a04f-b18d3a2f9995",
        "outputId": "b6d01239-71c5-45b8-cc19-9adec6008a14"
      },
      "outputs": [
        {
          "output_type": "execute_result",
          "data": {
            "text/plain": [
              "(1.5000000000000004+2.598076211353316j)"
            ]
          },
          "metadata": {},
          "execution_count": 53
        }
      ],
      "source": [
        "(-27)**(1/3)"
      ]
    },
    {
      "cell_type": "markdown",
      "id": "9d1ea80d-8225-4252-a69a-11dbd6f20373",
      "metadata": {
        "id": "9d1ea80d-8225-4252-a69a-11dbd6f20373"
      },
      "source": [
        "3.2 - Encontre as raízes cúbicas de -27:\n",
        "\n",
        "$-27 = 27e^{i \\pi}$\n",
        "\n",
        "Desta forma:\n",
        "\n",
        "r = 27, $\\theta = \\pi$ e n = 3\n",
        "\n",
        "$\\sqrt[3]{27e^{i\\pi}} = \\sqrt[3]{27}(\\cos \\frac{\\pi + 2k \\pi}{3} + i\\sin \\frac{\\pi + 2k \\pi}{3})$, k = 0,1,2\n",
        "\n",
        "Para k = 0\n",
        "\n",
        "$3* \\cos(\\frac{\\pi}{3}) + i\\sin(\\frac{\\pi}{3})$"
      ]
    },
    {
      "cell_type": "code",
      "execution_count": 54,
      "id": "f6825f73-4281-47c9-b511-69a0e42e741e",
      "metadata": {
        "colab": {
          "base_uri": "https://localhost:8080/",
          "height": 55
        },
        "id": "f6825f73-4281-47c9-b511-69a0e42e741e",
        "outputId": "22ad0f7c-95cb-4080-b268-6acd280eea36"
      },
      "outputs": [
        {
          "output_type": "execute_result",
          "data": {
            "text/plain": [
              "3/2 + sqrt(3)*I/2"
            ],
            "text/latex": "$\\displaystyle \\frac{3}{2} + \\frac{\\sqrt{3} i}{2}$"
          },
          "metadata": {},
          "execution_count": 54
        }
      ],
      "source": [
        "3*cos(pi/3)+ I * sin(pi/3)"
      ]
    },
    {
      "cell_type": "markdown",
      "id": "5d0e4838-536d-46ba-b441-9e11d469c875",
      "metadata": {
        "id": "5d0e4838-536d-46ba-b441-9e11d469c875"
      },
      "source": [
        "Para k = 1\n",
        "\n",
        "$3(\\cos {\\pi} + i\\sin {\\pi})$"
      ]
    },
    {
      "cell_type": "code",
      "execution_count": 55,
      "id": "277d782b-d9b4-4ea3-9ced-a1976de6871b",
      "metadata": {
        "colab": {
          "base_uri": "https://localhost:8080/",
          "height": 37
        },
        "id": "277d782b-d9b4-4ea3-9ced-a1976de6871b",
        "outputId": "79657c53-0e54-4d04-b7c9-a918637b103a"
      },
      "outputs": [
        {
          "output_type": "execute_result",
          "data": {
            "text/plain": [
              "-3"
            ],
            "text/latex": "$\\displaystyle -3$"
          },
          "metadata": {},
          "execution_count": 55
        }
      ],
      "source": [
        "3*cos(pi)+ I * sin(pi)"
      ]
    },
    {
      "cell_type": "markdown",
      "id": "c3b545c5-b0c0-45c3-8c7a-4c6c791aa30f",
      "metadata": {
        "id": "c3b545c5-b0c0-45c3-8c7a-4c6c791aa30f"
      },
      "source": [
        "Para k = 2\n",
        "\n",
        "$3(\\cos \\frac{5\\pi}{3} + i\\sin \\frac{5\\pi}{3})$"
      ]
    },
    {
      "cell_type": "code",
      "execution_count": 56,
      "id": "79262cc3-f837-4807-b353-c738d33f5e3d",
      "metadata": {
        "colab": {
          "base_uri": "https://localhost:8080/",
          "height": 55
        },
        "id": "79262cc3-f837-4807-b353-c738d33f5e3d",
        "outputId": "f41e7c00-3021-4a1a-c4d6-d8a92c7cff5e"
      },
      "outputs": [
        {
          "output_type": "execute_result",
          "data": {
            "text/plain": [
              "3/2 - sqrt(3)*I/2"
            ],
            "text/latex": "$\\displaystyle \\frac{3}{2} - \\frac{\\sqrt{3} i}{2}$"
          },
          "metadata": {},
          "execution_count": 56
        }
      ],
      "source": [
        "3*cos(5*pi/3)+ I * sin(5*pi/3)"
      ]
    },
    {
      "cell_type": "markdown",
      "id": "7603f800-9905-4950-ac59-776a9c9ff0b5",
      "metadata": {
        "id": "7603f800-9905-4950-ac59-776a9c9ff0b5"
      },
      "source": [
        "3.3 - Determine $\\sqrt[8]{\\frac{i}{1-i}}$"
      ]
    },
    {
      "cell_type": "markdown",
      "id": "3136f2cf-f285-4c80-8889-9c83a3a9d97b",
      "metadata": {
        "id": "3136f2cf-f285-4c80-8889-9c83a3a9d97b"
      },
      "source": [
        "$\\frac{i}{i-1} = \\frac{i(1+i)}{(1-i)(1+i)} = \\frac{-1+i}{2} = \\frac{ \\sqrt 2}{2}(cos(\\frac{3\\pi}{4})+isin(\\frac{3\\pi}{4}))$\n",
        "\n",
        "r = $\\frac{1}{\\sqrt{2}}$, $\\theta = \\frac{3\\pi}{4}$, $n = 8$\n",
        "\n",
        "\n",
        "\n"
      ]
    },
    {
      "cell_type": "markdown",
      "id": "adf7cc2e-0b07-489c-a6cb-fdfd1569c1ca",
      "metadata": {
        "id": "adf7cc2e-0b07-489c-a6cb-fdfd1569c1ca"
      },
      "source": [
        "{$\\frac{2^{15/16}}{2} * (cos(\\frac{3*\\pi}{32}+\\frac{k*\\pi}{4})+ i* \\sin(\\frac{3*\\pi}{32}+\\frac{k*\\pi}{4}), k = 0,1,2,...,7$}"
      ]
    },
    {
      "cell_type": "code",
      "execution_count": 57,
      "id": "f86779ff-f992-4676-97f9-b2d13a8343a8",
      "metadata": {
        "colab": {
          "base_uri": "https://localhost:8080/",
          "height": 39
        },
        "id": "f86779ff-f992-4676-97f9-b2d13a8343a8",
        "outputId": "1e2335a3-38ce-4807-cf0c-c73fca1a74da"
      },
      "outputs": [
        {
          "output_type": "execute_result",
          "data": {
            "text/plain": [
              "0.9164 + 0.278*I"
            ],
            "text/latex": "$\\displaystyle 0.9164 + 0.278 i$"
          },
          "metadata": {},
          "execution_count": 57
        }
      ],
      "source": [
        "#Obtendo o valor numérico simplificado da primeira raiz:\n",
        "(((-1+I)/2)**(1/8)).n(4)"
      ]
    },
    {
      "cell_type": "markdown",
      "id": "1fd5b4e7-6222-4190-a93f-ee36aa0c9961",
      "metadata": {
        "id": "1fd5b4e7-6222-4190-a93f-ee36aa0c9961"
      },
      "source": [
        "# 4. Função complexa\n",
        "\n",
        "Uma função complexa pode ser escrita da forma:\n",
        "\n",
        "$f(z) = u(x,y) + iv(x,y)$\n",
        "\n",
        "Onde:\n",
        "\n",
        "$z = x+iy$ e $u$ e $v$ funções reais que dependem de duas variáveis $x$ e $y$\n",
        "\n",
        "**Exemplo 1:**\n",
        "$f(z) = z^2 = (x + iy)^2 = x^2-y^2 + i 2xy$\n",
        "\n",
        "$u(x,y) = x^2-y^2$\n",
        "\n",
        "$v(x,y) = 2xy$\n",
        "\n",
        "Desta forma podemos calcular o valor de $z = 2 +2i$, sendo $x = 2$ e $y = 2$:\n",
        "\n",
        "$u(x,y) = x^2-y^2 = 4-4 = 0$\n",
        "\n",
        "$v(x,y) = 2xy = 8$\n",
        "\n",
        "$f(2+2i) = u(2,2) + iv(2,3) = 8i$\n",
        "\n",
        "\n"
      ]
    },
    {
      "cell_type": "code",
      "execution_count": 58,
      "id": "15f42a34-93ff-476d-9dc1-936e200ad61b",
      "metadata": {
        "colab": {
          "base_uri": "https://localhost:8080/",
          "height": 39
        },
        "id": "15f42a34-93ff-476d-9dc1-936e200ad61b",
        "outputId": "5d6b75c6-c198-495d-dc69-47a0774a265a"
      },
      "outputs": [
        {
          "output_type": "execute_result",
          "data": {
            "text/plain": [
              "x**2 + 2*I*x*y - y**2"
            ],
            "text/latex": "$\\displaystyle x^{2} + 2 i x y - y^{2}$"
          },
          "metadata": {},
          "execution_count": 58
        }
      ],
      "source": [
        "#Resolvendo com o Sympy:\n",
        "\n",
        "import sympy\n",
        "x, y, a, b, c = sympy.symbols('x y a b c')\n",
        "\n",
        "#definindo a expressão:\n",
        "expr = ((x+y*I)**2)\n",
        "\n",
        "#Expandindo a expressão\n",
        "expr.expand()"
      ]
    },
    {
      "cell_type": "code",
      "execution_count": 59,
      "id": "5ce5a134-4894-4fbe-a94c-2737b3035c8a",
      "metadata": {
        "colab": {
          "base_uri": "https://localhost:8080/",
          "height": 39
        },
        "id": "5ce5a134-4894-4fbe-a94c-2737b3035c8a",
        "outputId": "1456d2c2-21c6-4ab5-e977-be1ade4975ad"
      },
      "outputs": [
        {
          "output_type": "execute_result",
          "data": {
            "text/plain": [
              "8*I"
            ],
            "text/latex": "$\\displaystyle 8 i$"
          },
          "metadata": {},
          "execution_count": 59
        }
      ],
      "source": [
        "#Substituindo os valores de x, y = 2\n",
        "expr.expand().subs([(x, 2), (y, 2)])"
      ]
    },
    {
      "cell_type": "markdown",
      "id": "43ca8edc-10d1-4da2-a2cb-d83641ba4ced",
      "metadata": {
        "id": "43ca8edc-10d1-4da2-a2cb-d83641ba4ced"
      },
      "source": [
        "**Exemplo 2:**\n",
        "$f(z) = 2z^3 - 4z+1$, onde $z = x + iy$\n",
        "\n",
        "$2(x+iy)^3-4(x+iy)+1$\n",
        "\n",
        "$(2x^3-6xy^2-4x+1)+i(6x^2y-2y^3 -4y)$\n",
        "\n",
        "$u(x,y) = 2x^3-6xy^2-4x+1$\n",
        "\n",
        "$y(x,y) = 6x^2y-2y^3 -4y$\n"
      ]
    },
    {
      "cell_type": "code",
      "execution_count": 60,
      "id": "1d269c92-1623-4351-8b92-74b796975148",
      "metadata": {
        "colab": {
          "base_uri": "https://localhost:8080/",
          "height": 39
        },
        "id": "1d269c92-1623-4351-8b92-74b796975148",
        "outputId": "2caeb677-1343-4e73-e0cd-12c0578ce87a"
      },
      "outputs": [
        {
          "output_type": "execute_result",
          "data": {
            "text/plain": [
              "2*x**3 + 6*I*x**2*y - 6*x*y**2 - 4*x - 2*I*y**3 - 4*I*y + 1"
            ],
            "text/latex": "$\\displaystyle 2 x^{3} + 6 i x^{2} y - 6 x y^{2} - 4 x - 2 i y^{3} - 4 i y + 1$"
          },
          "metadata": {},
          "execution_count": 60
        }
      ],
      "source": [
        "expr2 = 2*(x+I*y)**3-4*(x+I*y)+1\n",
        "\n",
        "expr2.expand()"
      ]
    },
    {
      "cell_type": "markdown",
      "id": "628a7770-b0c7-42f6-8e6d-4e3ce9eae29c",
      "metadata": {
        "id": "628a7770-b0c7-42f6-8e6d-4e3ce9eae29c"
      },
      "source": [
        "**Exemplo 3:**\n",
        "$f(z) = cos(z)$"
      ]
    },
    {
      "cell_type": "code",
      "execution_count": 61,
      "id": "04c3c3c4-97fd-43d4-897f-dd8576ba0a52",
      "metadata": {
        "colab": {
          "base_uri": "https://localhost:8080/",
          "height": 39
        },
        "id": "04c3c3c4-97fd-43d4-897f-dd8576ba0a52",
        "outputId": "115e55f3-9872-44b9-85f7-6a4968c22c83"
      },
      "outputs": [
        {
          "output_type": "execute_result",
          "data": {
            "text/plain": [
              "cos(x + I*y)"
            ],
            "text/latex": "$\\displaystyle \\cos{\\left(x + i y \\right)}$"
          },
          "metadata": {},
          "execution_count": 61
        }
      ],
      "source": [
        "expr3 = cos(x+y*I)\n",
        "\n",
        "expr3"
      ]
    },
    {
      "cell_type": "code",
      "execution_count": 62,
      "id": "fa81cd42-e421-45d7-bd74-10a2b2ad23a2",
      "metadata": {
        "colab": {
          "base_uri": "https://localhost:8080/",
          "height": 39
        },
        "id": "fa81cd42-e421-45d7-bd74-10a2b2ad23a2",
        "outputId": "2a033fe6-5af2-401a-f14a-a89be2de836a"
      },
      "outputs": [
        {
          "output_type": "execute_result",
          "data": {
            "text/plain": [
              "-I*sin(x)*sinh(y) + cos(x)*cosh(y)"
            ],
            "text/latex": "$\\displaystyle - i \\sin{\\left(x \\right)} \\sinh{\\left(y \\right)} + \\cos{\\left(x \\right)} \\cosh{\\left(y \\right)}$"
          },
          "metadata": {},
          "execution_count": 62
        }
      ],
      "source": [
        "from sympy import expand_trig\n",
        "\n",
        "expand_trig(expr3)"
      ]
    },
    {
      "cell_type": "markdown",
      "id": "21702c2b-8bc3-46e5-b7c6-93d27071a187",
      "metadata": {
        "id": "21702c2b-8bc3-46e5-b7c6-93d27071a187"
      },
      "source": [
        "**Exemplo 4 - $f(z) = \\sqrt z  = \\sqrt{x+iy}$**\n",
        "\n",
        "Utilizando a fórmula de De Moivre para expandir a função:\n",
        "\n",
        "Se $z = w^n$ e $w = \\sqrt[n]{z}$\n",
        "\n",
        "$\\sqrt[n]{z} = \\sqrt[n]{r}(\\cos \\frac{\\theta + 2k \\pi}{n} + i\\sin \\frac{\\theta + 2k \\pi}{n})$\n",
        "\n",
        "$n = 2, \\theta = arg(x+iy), r = \\sqrt{x^2+y^2}$\n",
        "\n",
        "$\\sqrt[2]{x+yi} = \\sqrt[4]{x^2+y^2}(\\cos \\frac{arg(x+iy)}{2} + i\\sin \\frac{arg(x+iy)}{2})$\n",
        "\n",
        "\n",
        "\n"
      ]
    },
    {
      "cell_type": "markdown",
      "id": "2d629c98-a405-46b8-ac9c-68397a09b827",
      "metadata": {
        "id": "2d629c98-a405-46b8-ac9c-68397a09b827"
      },
      "source": [
        "# 5 - Equações de Cauchy-Riemann\n",
        "\n",
        "Critério para que uma função seja derivável, em relação a $z=x+jy$\n",
        "\n",
        "$\\frac{\\partial u}{\\partial x} = \\frac{\\partial v}{\\partial y}$\n",
        "\n",
        "$\\frac{\\partial u}{\\partial y} = -\\frac{\\partial v}{\\partial x}$\n"
      ]
    },
    {
      "cell_type": "markdown",
      "id": "8bcebd75-6bdf-46cb-9b54-6b3649607390",
      "metadata": {
        "id": "8bcebd75-6bdf-46cb-9b54-6b3649607390"
      },
      "source": [
        "**Exemplo**\n",
        "\n",
        "Verificar se $f(z) = 2z^3 - 4z+1$, onde $z = x + iy$ é derivável utilizando as Equações de Cauchy-Riemann:\n",
        "\n",
        "Encontrar u(x,y) e v(x,y):\n",
        "\n",
        "$2(x+iy)^3-4(x+iy)+1$\n",
        "\n",
        "$(2x^3-6xy^2-4x+1)+i(6x^2y-2y^3 -4y)$\n",
        "\n",
        "$u(x,y) = 2x^3-6xy^2-4x+1$\n",
        "\n",
        "$y(x,y) = 6x^2y-2y^3 -4y$\n",
        "\n",
        "Utilizado o Sympy para efetuar as derivadas:"
      ]
    },
    {
      "cell_type": "code",
      "execution_count": 63,
      "id": "6e607a80-b388-4519-95f7-6c08637cdf44",
      "metadata": {
        "id": "6e607a80-b388-4519-95f7-6c08637cdf44"
      },
      "outputs": [],
      "source": [
        "# Importar o módulo de derivadas\n",
        "from sympy import diff\n",
        "\n",
        "#inserindo as funções\n",
        "u = 2*x**3 - 6*x*y**2-4*x+1\n",
        "v = 6*y*x**2-2*y**3-4*y"
      ]
    },
    {
      "cell_type": "code",
      "execution_count": 64,
      "id": "c9c54c11-3636-4bcf-9ff1-14b9fdd82c10",
      "metadata": {
        "colab": {
          "base_uri": "https://localhost:8080/",
          "height": 39
        },
        "id": "c9c54c11-3636-4bcf-9ff1-14b9fdd82c10",
        "outputId": "7149b79e-bb77-4025-b232-33b5d53758cb"
      },
      "outputs": [
        {
          "output_type": "execute_result",
          "data": {
            "text/plain": [
              "2*x**3 - 6*x*y**2 - 4*x + 1"
            ],
            "text/latex": "$\\displaystyle 2 x^{3} - 6 x y^{2} - 4 x + 1$"
          },
          "metadata": {},
          "execution_count": 64
        }
      ],
      "source": [
        "#imprimindo u\n",
        "u"
      ]
    },
    {
      "cell_type": "code",
      "execution_count": 65,
      "id": "4bc4cb8e-3673-4e30-9d54-06a40b55287a",
      "metadata": {
        "colab": {
          "base_uri": "https://localhost:8080/",
          "height": 39
        },
        "id": "4bc4cb8e-3673-4e30-9d54-06a40b55287a",
        "outputId": "3f2e2f43-9292-42f9-f995-2f8c0deedbef"
      },
      "outputs": [
        {
          "output_type": "execute_result",
          "data": {
            "text/plain": [
              "6*x**2*y - 2*y**3 - 4*y"
            ],
            "text/latex": "$\\displaystyle 6 x^{2} y - 2 y^{3} - 4 y$"
          },
          "metadata": {},
          "execution_count": 65
        }
      ],
      "source": [
        "#imprimindo v\n",
        "v"
      ]
    },
    {
      "cell_type": "code",
      "execution_count": 66,
      "id": "97636069-32c0-45b5-9487-8bed1e652cf8",
      "metadata": {
        "colab": {
          "base_uri": "https://localhost:8080/",
          "height": 39
        },
        "id": "97636069-32c0-45b5-9487-8bed1e652cf8",
        "outputId": "76a04b3a-24e4-46ee-fd0c-f6d87760e43d"
      },
      "outputs": [
        {
          "output_type": "execute_result",
          "data": {
            "text/plain": [
              "6*x**2 - 6*y**2 - 4"
            ],
            "text/latex": "$\\displaystyle 6 x^{2} - 6 y^{2} - 4$"
          },
          "metadata": {},
          "execution_count": 66
        }
      ],
      "source": [
        "#Derivando a função u, em relação à variável x\n",
        "\n",
        "# A documentação do Sympy se encontra aqui: https://docs.sympy.org/latest/index.html\n",
        "\n",
        "diff(u,x)"
      ]
    },
    {
      "cell_type": "markdown",
      "id": "27b0b818-4dda-49ba-9e58-9bdad3982bd1",
      "metadata": {
        "id": "27b0b818-4dda-49ba-9e58-9bdad3982bd1"
      },
      "source": [
        "Verificando as equações de Cauchy-Riemann:\n",
        "\n",
        "$\\frac{\\partial u}{\\partial x} = \\frac{\\partial v}{\\partial y}$"
      ]
    },
    {
      "cell_type": "code",
      "execution_count": 67,
      "id": "455b6fb6-3b2a-47b3-8466-de756b5f948d",
      "metadata": {
        "colab": {
          "base_uri": "https://localhost:8080/",
          "height": 0
        },
        "id": "455b6fb6-3b2a-47b3-8466-de756b5f948d",
        "outputId": "158aef5d-2945-4030-e216-23fba2cb3a77"
      },
      "outputs": [
        {
          "output_type": "execute_result",
          "data": {
            "text/plain": [
              "True"
            ]
          },
          "metadata": {},
          "execution_count": 67
        }
      ],
      "source": [
        "diff(u,x) == diff(v,y)"
      ]
    },
    {
      "cell_type": "markdown",
      "id": "e3210c98-088c-4515-a10b-cde8230ef466",
      "metadata": {
        "id": "e3210c98-088c-4515-a10b-cde8230ef466"
      },
      "source": [
        "$\\frac{\\partial u}{\\partial y} = -\\frac{\\partial v}{\\partial x}$"
      ]
    },
    {
      "cell_type": "code",
      "execution_count": 68,
      "id": "26ae86e7-3244-4f79-a9e3-055c4f50f5f7",
      "metadata": {
        "colab": {
          "base_uri": "https://localhost:8080/",
          "height": 0
        },
        "id": "26ae86e7-3244-4f79-a9e3-055c4f50f5f7",
        "outputId": "284333dc-8efc-42ab-b36e-19cacf20f1d4"
      },
      "outputs": [
        {
          "output_type": "execute_result",
          "data": {
            "text/plain": [
              "True"
            ]
          },
          "metadata": {},
          "execution_count": 68
        }
      ],
      "source": [
        "diff(u,y) == -diff(v,x)"
      ]
    },
    {
      "cell_type": "markdown",
      "id": "0142dad9-1510-4713-bcdf-9c328d170113",
      "metadata": {
        "id": "0142dad9-1510-4713-bcdf-9c328d170113"
      },
      "source": [
        "$f(z)$ é derivável."
      ]
    },
    {
      "cell_type": "markdown",
      "id": "e8b87c7e-1bd0-4fd3-9bdf-c7b2fb724e77",
      "metadata": {
        "id": "e8b87c7e-1bd0-4fd3-9bdf-c7b2fb724e77"
      },
      "source": [
        "## Referências Bibliográficas\n",
        "\n",
        "**CMATH — MATHEMATICAL FUNCTIONS FOR COMPLEX NUMBERS.** 2023. Python documentation. Disponível em: https://docs.python.org/3/library/cmath.html. Acesso em: 19 ago. 2023.\n",
        "\n",
        "\n",
        "MEURER, Aaron; SMITH, Christopher P.; PAPROCKI, Mateusz; ČERTÍK, Ondřej; KIRPICHEV, Sergey B.; ROCKLIN, Matthew; KUMAR, AMiT; IVANOV, Sergiu; MOORE, Jason K.; SINGH, Sartaj; RATHNAYAKE, Thilina; VIG, Sean; GRANGER, Brian E.; MULLER, Richard P.; BONAZZI, Francesco; GUPTA, Harsh; VATS, Shivam; JOHANSSON, Fredrik; PEDREGOSA, Fabian; … SCOPATZ, Anthony. **SymPy: symbolic computing in Python**. PeerJ Computer Science, v. 3, p. e103, 2 jan. 2017. https://doi.org/10.7717/peerj-cs.103.\n",
        "\n",
        "\n",
        "LUCIO S. BUSTAMANTE, F. **Números complexos com Python e SymPy**. Disponível em: <https://cienciaprogramada.com.br/2022/03/numeros-complexos-python-sympy/>. Acesso em: 1 ago. 2023.\n",
        "\n",
        "PETRA, B.-T. **Introdução à análise complexa**. Disponível em: <https://www.coursera.org/learn/complex-analysis>. Acesso em: 8 Mai. 2023.\n",
        "\n",
        "URSINI, Edson L. **Notas de Aulas TT413 - Métodos Matemáticos para Telecomunicacões.** [S. l.: s. n.], 2023.‌\n"
      ]
    }
  ],
  "metadata": {
    "kernelspec": {
      "display_name": "Python 3 (ipykernel)",
      "language": "python",
      "name": "python3"
    },
    "language_info": {
      "codemirror_mode": {
        "name": "ipython",
        "version": 3
      },
      "file_extension": ".py",
      "mimetype": "text/x-python",
      "name": "python",
      "nbconvert_exporter": "python",
      "pygments_lexer": "ipython3",
      "version": "3.8.10"
    },
    "colab": {
      "provenance": []
    }
  },
  "nbformat": 4,
  "nbformat_minor": 5
}