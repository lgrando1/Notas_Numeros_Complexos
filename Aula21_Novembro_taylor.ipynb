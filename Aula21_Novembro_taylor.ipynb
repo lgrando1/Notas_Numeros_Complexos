{
 "cells": [
  {
   "cell_type": "markdown",
   "id": "c597f022-cb37-492b-8565-cb770f8d7ac6",
   "metadata": {},
   "source": [
    "# Desenvolvimentos dos componentes da Série de Taylor\n",
    "\n",
    "Para expandir computacionalmente é possivel utilizar a função sympy.series. \n",
    "\n",
    "A documentação desta função pode ser encontrada [aqui](https://docs.sympy.org/latest/modules/series/series.html#more-intuitive-series-expansion)"
   ]
  },
  {
   "cell_type": "code",
   "execution_count": 1,
   "id": "35b38e89-827d-430d-8947-e870e5d51e9f",
   "metadata": {},
   "outputs": [],
   "source": [
    "# importando as funções nescessarias para a expansão das funções:\n",
    "from sympy import Symbol, cos, series, E, sin, ln, cosh, sinh\n",
    "z = Symbol('z')"
   ]
  },
  {
   "cell_type": "markdown",
   "id": "e7417929-9dd0-4837-8e09-04704f731630",
   "metadata": {},
   "source": [
    "## Series de Taylor\n",
    "\n",
    "Utiliza-se a seguinte expressão para o desenvolvimento das expressões das séries de Taylor:\n",
    "\n",
    "$f(z)=\\sum_{k=0}^{\\infty}(z-a)^k\\frac{f^{k}(a)}{k!}$\n",
    "\n",
    "Desenvolva as séries de Taylor para as funções a seguir nos pontos determinados:"
   ]
  },
  {
   "cell_type": "markdown",
   "id": "f5b4109c-bfc8-4eaf-8ee8-517daf896c7d",
   "metadata": {},
   "source": [
    "### A) $f(z) = e^z$ para $a = 0$\n",
    "\n",
    "Calculando as derivadas:\n",
    "\n",
    "$f^0(z)=e^z \\Rightarrow f^0(0) = 1$ \n",
    "\n",
    "$f^1(z)=e^z \\Rightarrow f^1(0) = 1$\n",
    "\n",
    "$f^2(z)=e^z \\Rightarrow f^2(0) = 1$\n",
    "\n",
    "$f^3(z)=e^z \\Rightarrow f^3(0) = 1$\n",
    "\n",
    "$f^4(z)=e^z \\Rightarrow f^4(0) = 1$\n",
    "\n",
    "Para k = 0\n",
    "\n",
    "$(z-0)^0 \\frac{f^0(0)}{0!} = 1$\n",
    "\n",
    "Para k = 1\n",
    "\n",
    "$(z-0)^1 \\frac{f^1(0)}{1!} = z$\n",
    "\n",
    "Para k = 2\n",
    "\n",
    "$(z-0)^2 \\frac{f^2(0)}{2!} = \\frac{z^2}{2!}$\n",
    "\n",
    "Para k = 3\n",
    "\n",
    "$(z-0)^3 \\frac{f^3(0)}{3!} = \\frac{z^3}{3!}$\n",
    "\n",
    "Para k = 4\n",
    "\n",
    "$(z-0)^4 \\frac{f^4(0)}{4!} = \\frac{z^4}{4!}$\n",
    "\n",
    "Então:\n",
    "\n",
    "$f(z) = 1 + z + \\frac{z^2}{2!} + \\frac{z^3}{3!} + \\frac{z^4}{4!}... $"
   ]
  },
  {
   "cell_type": "code",
   "execution_count": 2,
   "id": "e9c730af-5bb5-4895-96b4-85f1e29b392a",
   "metadata": {},
   "outputs": [
    {
     "data": {
      "text/latex": [
       "$\\displaystyle 1 + z + \\frac{z^{2}}{2} + \\frac{z^{3}}{6} + \\frac{z^{4}}{24} + \\frac{z^{5}}{120} + O\\left(z^{6}\\right)$"
      ],
      "text/plain": [
       "1 + z + z**2/2 + z**3/6 + z**4/24 + z**5/120 + O(z**6)"
      ]
     },
     "execution_count": 2,
     "metadata": {},
     "output_type": "execute_result"
    }
   ],
   "source": [
    "series(E**(z),z)"
   ]
  },
  {
   "cell_type": "markdown",
   "id": "b8bb7c06-b5cf-4d89-8e68-7dd7fcfd502c",
   "metadata": {},
   "source": [
    "### B) $f(z) = \\cos(z)$ para $a = 0$\n",
    "\n",
    "Calculando as derivadas:\n",
    "\n",
    "$f^0(z)=\\cos(z) \\Rightarrow f^0(0) = 1$ \n",
    "\n",
    "$f^1(z)=-\\sin(z) \\Rightarrow f^1(0) = 0$\n",
    "\n",
    "$f^2(z)=-\\cos(z) \\Rightarrow f^2(0) = -1$\n",
    "\n",
    "$f^3(z)=\\sin(z) \\Rightarrow f^3(0) = 0$\n",
    "\n",
    "$f^4(z)=\\cos(z) \\Rightarrow f^4(0) = 1$\n",
    "\n",
    "Para k = 0\n",
    "\n",
    "$(z-0)^0 \\frac{f^0(0)}{0!} = 1$\n",
    "\n",
    "Para k = 1\n",
    "\n",
    "$(z-0)^1 \\frac{f^1(0)}{1!} = 0$\n",
    "\n",
    "Para k = 2\n",
    "\n",
    "$(z-0)^2 \\frac{f^2(0)}{2!} = -\\frac{z^2}{2!}$\n",
    "\n",
    "Para k = 3\n",
    "\n",
    "$(z-0)^3 \\frac{f^3(0)}{3!} = 0$\n",
    "\n",
    "Para k = 4\n",
    "\n",
    "$(z-0)^4 \\frac{f^4(0)}{4!} = -\\frac{z^4}{4!}$\n",
    "\n",
    "Então:\n",
    "\n",
    "$f(z) = 1 - \\frac{z^2}{2!} + \\frac{z^4}{4!} ... $"
   ]
  },
  {
   "cell_type": "code",
   "execution_count": 3,
   "id": "fd65dd9a-c6d1-46cb-a046-eda39aca036e",
   "metadata": {},
   "outputs": [
    {
     "data": {
      "text/latex": [
       "$\\displaystyle 1 - \\frac{z^{2}}{2} + \\frac{z^{4}}{24} + O\\left(z^{6}\\right)$"
      ],
      "text/plain": [
       "1 - z**2/2 + z**4/24 + O(z**6)"
      ]
     },
     "execution_count": 3,
     "metadata": {},
     "output_type": "execute_result"
    }
   ],
   "source": [
    "series(cos(z),z)"
   ]
  },
  {
   "cell_type": "markdown",
   "id": "a7eff459-772d-45e3-8f39-ef72c4bacb9a",
   "metadata": {},
   "source": [
    "### C) $f(z) = \\sin(z)$ para $a = 0$\n",
    "\n",
    "Calculando as derivadas:\n",
    "\n",
    "$f^0(z)=\\sin(z) \\Rightarrow f^0(0) = 0$ \n",
    "\n",
    "$f^1(z)=\\cos(z) \\Rightarrow f^1(0) = 1$\n",
    "\n",
    "$f^2(z)=-\\sin(z) \\Rightarrow f^2(0) = 0$\n",
    "\n",
    "$f^3(z)=-\\cos(z) \\Rightarrow f^3(0) = -1$\n",
    "\n",
    "$f^4(z)=\\sin(z) \\Rightarrow f^4(0) = 0$\n",
    "\n",
    "$f^5(z)=\\cos(z) \\Rightarrow f^5(0) = 1$\n",
    "\n",
    "Para k = 0\n",
    "\n",
    "$(z-0)^0 \\frac{f^0(0)}{0!} = 0$\n",
    "\n",
    "Para k = 1\n",
    "\n",
    "$(z-0)^1 \\frac{f^1(0)}{1!} = z$\n",
    "\n",
    "Para k = 2\n",
    "\n",
    "$(z-0)^2 \\frac{f^2(0)}{2!} = 0$\n",
    "\n",
    "Para k = 3\n",
    "\n",
    "$(z-0)^3 \\frac{f^3(0)}{3!} = -\\frac{z^3}{3!}$\n",
    "\n",
    "Para k = 4\n",
    "\n",
    "$(z-0)^4 \\frac{f^4(0)}{4!} = 0$\n",
    "\n",
    "Para k = 5\n",
    "\n",
    "$(z-0)^5 \\frac{f^5(0)}{5!} = \\frac{z^5}{5!}$\n",
    "\n",
    "Então:\n",
    "\n",
    "\\box{$f(z) = z - \\frac{z^3}{3!} + \\frac{z^5}{5!} ... $"
   ]
  },
  {
   "cell_type": "code",
   "execution_count": 4,
   "id": "1824e1b6-92af-4d1f-93f8-2e0d9b594d5a",
   "metadata": {},
   "outputs": [
    {
     "data": {
      "text/latex": [
       "$\\displaystyle z - \\frac{z^{3}}{6} + \\frac{z^{5}}{120} + O\\left(z^{6}\\right)$"
      ],
      "text/plain": [
       "z - z**3/6 + z**5/120 + O(z**6)"
      ]
     },
     "execution_count": 4,
     "metadata": {},
     "output_type": "execute_result"
    }
   ],
   "source": [
    "series(sin(z),z)"
   ]
  },
  {
   "cell_type": "markdown",
   "id": "69630dd5-413f-4e75-835b-d82d54d979ed",
   "metadata": {},
   "source": [
    "### D) $f(z) = \\frac{1}{z}$ para $a = 1$\n",
    "\n",
    "Calculando as derivadas:\n",
    "\n",
    "$f^0(z)=\\frac{1}{z} \\Rightarrow f^0(1) = 1$ \n",
    "\n",
    "$f^1(z)=-\\frac{1}{z^2} \\Rightarrow f^1(1) = -1$\n",
    "\n",
    "$f^2(z)=\\frac{2}{z^3} \\Rightarrow f^2(1) = 2!$\n",
    "\n",
    "$f^3(z)=-\\frac{3!}{z^4} \\Rightarrow f^3(1) = -3!$\n",
    "\n",
    "$f^4(z)=\\frac{4!}{z^5} \\Rightarrow f^4(1) = 4!$\n",
    "\n",
    "Para k = 0\n",
    "\n",
    "$(z-1)^0 \\frac{1}{0!} = 1$\n",
    "\n",
    "Para k = 1\n",
    "\n",
    "$(z-1)^1 \\frac{-1}{1!} = -(z-1)$\n",
    "\n",
    "Para k = 2\n",
    "\n",
    "$(z-1)^2 \\frac{2!}{2!} = (z-1)^2$\n",
    "\n",
    "Para k = 3\n",
    "\n",
    "$(z-1)^3 \\frac{3!}{3!} = -(z-1)^3$\n",
    "\n",
    "Para k = 4\n",
    "\n",
    "$(z-1)^4 \\frac{4!}{4!} = (z-1)^4$\n",
    "\n",
    "Então:\n",
    " \n",
    "$f(z) = 1 -(z-1) + (z-1)^2 - (z-1)^3 + (z-1)^4 ... $"
   ]
  },
  {
   "cell_type": "code",
   "execution_count": 5,
   "id": "d240d599-90cb-4c47-9fce-6175f6e4b6dd",
   "metadata": {},
   "outputs": [
    {
     "data": {
      "text/latex": [
       "$\\displaystyle 2 + \\left(z - 1\\right)^{2} - \\left(z - 1\\right)^{3} + \\left(z - 1\\right)^{4} - \\left(z - 1\\right)^{5} - z + O\\left(\\left(z - 1\\right)^{6}; z\\rightarrow 1\\right)$"
      ],
      "text/plain": [
       "2 + (z - 1)**2 - (z - 1)**3 + (z - 1)**4 - (z - 1)**5 - z + O((z - 1)**6, (z, 1))"
      ]
     },
     "execution_count": 5,
     "metadata": {},
     "output_type": "execute_result"
    }
   ],
   "source": [
    "series(1/z, z, 1)"
   ]
  },
  {
   "cell_type": "markdown",
   "id": "4f768681-df95-4023-8372-20ef5bfef1b7",
   "metadata": {},
   "source": [
    "### E) $f(z) = \\ln(z)$ para $a = 1$\n",
    "\n",
    "Calculando as derivadas:\n",
    "\n",
    "$f^0(z)= \\ln(z) \\Rightarrow f^0(1) = 0 $\n",
    "\n",
    "$f^1(z)=\\frac{1}{z} \\Rightarrow f^1(1) = 1$ \n",
    "\n",
    "$f^2(z)=-\\frac{1}{z^2} \\Rightarrow f^2(1) = -1$\n",
    "\n",
    "$f^3(z)=\\frac{2}{z^3} \\Rightarrow f^3(1) = 2!$\n",
    "\n",
    "$f^4(z)=-\\frac{3!}{z^4} \\Rightarrow f^4(1) = -3!$\n",
    "\n",
    "\n",
    "Para k = 0\n",
    "\n",
    "$(z-1)^0 \\frac{0}{0!} = 0$\n",
    "\n",
    "Para k = 1\n",
    "\n",
    "$(z-1)^1 \\frac{1}{1!} = (z-1)$\n",
    "\n",
    "Para k = 2\n",
    "\n",
    "$(z-1)^2 \\frac{-1}{2!} = -\\frac{(z-1)^2}{2}$\n",
    "\n",
    "Para k = 3\n",
    "\n",
    "$(z-1)^3 \\frac{2!}{3!} = \\frac{(z-1)^3}{3}$\n",
    "\n",
    "Para k = 4\n",
    "\n",
    "$(z-1)^4 \\frac{3!}{4!} = -\\frac{(z-1)^4}{4}$\n",
    "\n",
    "Então:\n",
    " \n",
    "$f(z) = (z-1) -\\frac{(z-1)^2}{2} + \\frac{(z-1)^3}{3} -\\frac{(z-1)^4}{4} ... $"
   ]
  },
  {
   "cell_type": "code",
   "execution_count": 6,
   "id": "83a86125-dc80-45ea-a387-def3f0b7d8ea",
   "metadata": {},
   "outputs": [
    {
     "data": {
      "text/latex": [
       "$\\displaystyle -1 - \\frac{\\left(z - 1\\right)^{2}}{2} + \\frac{\\left(z - 1\\right)^{3}}{3} - \\frac{\\left(z - 1\\right)^{4}}{4} + \\frac{\\left(z - 1\\right)^{5}}{5} + z + O\\left(\\left(z - 1\\right)^{6}; z\\rightarrow 1\\right)$"
      ],
      "text/plain": [
       "-1 - (z - 1)**2/2 + (z - 1)**3/3 - (z - 1)**4/4 + (z - 1)**5/5 + z + O((z - 1)**6, (z, 1))"
      ]
     },
     "execution_count": 6,
     "metadata": {},
     "output_type": "execute_result"
    }
   ],
   "source": [
    "series(ln(z),z, 1)"
   ]
  },
  {
   "cell_type": "markdown",
   "id": "e156429a-28b6-457c-a308-11e19c169fe9",
   "metadata": {},
   "source": [
    "### F) $f(z) = \\cosh(z)$ para $a = 0$\n",
    "\n",
    "Calculando as derivadas:\n",
    "\n",
    "$f^0(z)= \\cosh(z) \\Rightarrow f^0(0) = 1 $\n",
    "\n",
    "$f^1(z)= \\sinh(z) \\Rightarrow f^1(0) = 0$ \n",
    "\n",
    "$f^2(z)= \\cosh(z) \\Rightarrow f^0(0) = 1 $\n",
    "\n",
    "$f^3(z)= \\sinh(z) \\Rightarrow f^1(0) = 0$\n",
    "\n",
    "$f^4(z)= \\cosh(z) \\Rightarrow f^0(0) = 1 $\n",
    "\n",
    "\n",
    "Para k = 0\n",
    "\n",
    "$(z-0)^0 \\frac{1}{0!} = 1$\n",
    "\n",
    "Para k = 1\n",
    "\n",
    "$(z-0)^1 \\frac{0}{1!} = 0$\n",
    "\n",
    "Para k = 2\n",
    "\n",
    "$(z-0)^2 \\frac{1}{2!} = \\frac{z^2}{2}$\n",
    "\n",
    "Para k = 3\n",
    "\n",
    "$(z-0)^3 \\frac{0}{3!} = 0$\n",
    "\n",
    "Para k = 4\n",
    "\n",
    "$(z-0)^4 \\frac{1}{4!} = \\frac{z^2}{4!}$\n",
    "\n",
    "Então:\n",
    " \n",
    "$f(z) = 1 + \\frac{z^2}{2} + \\frac{z^4}{4!} ... $"
   ]
  },
  {
   "cell_type": "code",
   "execution_count": 7,
   "id": "653103f6-3030-4a54-b77b-fea9a4d9b554",
   "metadata": {},
   "outputs": [
    {
     "data": {
      "text/latex": [
       "$\\displaystyle 1 + \\frac{z^{2}}{2} + \\frac{z^{4}}{24} + O\\left(z^{6}\\right)$"
      ],
      "text/plain": [
       "1 + z**2/2 + z**4/24 + O(z**6)"
      ]
     },
     "execution_count": 7,
     "metadata": {},
     "output_type": "execute_result"
    }
   ],
   "source": [
    "series(cosh(z),z)"
   ]
  },
  {
   "cell_type": "markdown",
   "id": "a939193f-483c-43f8-a49b-eca5b1b6e5b8",
   "metadata": {},
   "source": [
    "### G) $f(z) = \\sinh(z)$ para $a = 0$\n",
    "\n",
    "Calculando as derivadas:\n",
    "\n",
    "$f^0(z)= \\sinh(z) \\Rightarrow f^1(0) = 0$ \n",
    "\n",
    "$f^1(z)= \\cosh(z) \\Rightarrow f^0(0) = 1 $\n",
    "\n",
    "$f^2(z)= \\sinh(z) \\Rightarrow f^1(0) = 0$\n",
    "\n",
    "$f^3(z)= \\cosh(z) \\Rightarrow f^0(0) = 1 $\n",
    "\n",
    "$f^4(z)= \\sinh(z) \\Rightarrow f^0(0) = 0 $\n",
    "\n",
    "$f^5(z)= \\cosh(z) \\Rightarrow f^0(0) = 1 $\n",
    "\n",
    "Para k = 0\n",
    "\n",
    "$(z-0)^0 \\frac{0}{0!} = 0$\n",
    "\n",
    "Para k = 1\n",
    "\n",
    "$(z-0)^1 \\frac{1}{1!} = z$\n",
    "\n",
    "Para k = 2\n",
    "\n",
    "$(z-0)^2 \\frac{0}{2!} = 0$\n",
    "\n",
    "Para k = 3\n",
    "\n",
    "$(z-0)^3 \\frac{1}{3!} = \\frac{z^3}{3!}$\n",
    "\n",
    "Para k = 4\n",
    "\n",
    "$(z-0)^4 \\frac{0}{4!} = 0$\n",
    "\n",
    "Para k = 5\n",
    "\n",
    "$(z-0)^5 \\frac{1}{5!} = \\frac{z^5}{5!}$\n",
    "\n",
    "Então:\n",
    " \n",
    "$f(z) = z + \\frac{z^3}{3!} + \\frac{z^5}{5!} ... $"
   ]
  },
  {
   "cell_type": "code",
   "execution_count": 8,
   "id": "ca3a5d66-7eff-40e5-aede-1b4f35172337",
   "metadata": {},
   "outputs": [
    {
     "data": {
      "text/latex": [
       "$\\displaystyle z + \\frac{z^{3}}{6} + \\frac{z^{5}}{120} + O\\left(z^{6}\\right)$"
      ],
      "text/plain": [
       "z + z**3/6 + z**5/120 + O(z**6)"
      ]
     },
     "execution_count": 8,
     "metadata": {},
     "output_type": "execute_result"
    }
   ],
   "source": [
    "series(sinh(z),z)"
   ]
  },
  {
   "cell_type": "markdown",
   "id": "44ca37c2-0f27-48f2-8326-def1efc4a244",
   "metadata": {},
   "source": [
    "### H) $f(z) = \\frac{1+2z}{z^3+z^4}$, para $a = 0$"
   ]
  },
  {
   "cell_type": "code",
   "execution_count": 9,
   "id": "48879f05-668a-4792-86f3-0a016741d5d3",
   "metadata": {},
   "outputs": [
    {
     "data": {
      "text/latex": [
       "$\\displaystyle \\frac{1}{z^{3}} + \\frac{1}{z^{2}} - \\frac{1}{z} + 1 - z + z^{2} - z^{3} + z^{4} - z^{5} + O\\left(z^{6}\\right)$"
      ],
      "text/plain": [
       "z**(-3) + z**(-2) - 1/z + 1 - z + z**2 - z**3 + z**4 - z**5 + O(z**6)"
      ]
     },
     "execution_count": 9,
     "metadata": {},
     "output_type": "execute_result"
    }
   ],
   "source": [
    "series((1+2*z)/(z**3+z**4),z)"
   ]
  }
 ],
 "metadata": {
  "kernelspec": {
   "display_name": "Python 3 (ipykernel)",
   "language": "python",
   "name": "python3"
  },
  "language_info": {
   "codemirror_mode": {
    "name": "ipython",
    "version": 3
   },
   "file_extension": ".py",
   "mimetype": "text/x-python",
   "name": "python",
   "nbconvert_exporter": "python",
   "pygments_lexer": "ipython3",
   "version": "3.8.10"
  },
  "widgets": {
   "application/vnd.jupyter.widget-state+json": {
    "state": {},
    "version_major": 2,
    "version_minor": 0
   }
  }
 },
 "nbformat": 4,
 "nbformat_minor": 5
}
